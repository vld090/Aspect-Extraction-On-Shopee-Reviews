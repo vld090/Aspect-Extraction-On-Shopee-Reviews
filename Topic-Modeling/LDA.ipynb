{
  "cells": [
    {
      "cell_type": "code",
      "execution_count": 21,
      "id": "305b0a04",
      "metadata": {
        "colab": {
          "base_uri": "https://localhost:8080/"
        },
        "id": "305b0a04",
        "outputId": "e7dc6e25-3630-4ae2-faaf-8c82f3352807"
      },
      "outputs": [
        {
          "name": "stderr",
          "output_type": "stream",
          "text": [
            "[nltk_data] Downloading package stopwords to\n",
            "[nltk_data]     C:\\Users\\vldth\\AppData\\Roaming\\nltk_data...\n",
            "[nltk_data]   Package stopwords is already up-to-date!\n"
          ]
        },
        {
          "data": {
            "text/plain": [
              "True"
            ]
          },
          "execution_count": 21,
          "metadata": {},
          "output_type": "execute_result"
        }
      ],
      "source": [
        "import pandas as pd\n",
        "from pprint import pprint\n",
        "import nltk\n",
        "from nltk.corpus import stopwords\n",
        "from gensim.utils import simple_preprocess\n",
        "from gensim.models import Phrases, LdaModel\n",
        "from gensim.models.phrases import Phraser\n",
        "from gensim import corpora\n",
        "from gensim.models.coherencemodel import CoherenceModel\n",
        "import pyLDAvis\n",
        "import pyLDAvis.gensim_models as gensimvis\n",
        "\n",
        "nltk.download('stopwords')"
      ]
    },
    {
      "cell_type": "code",
      "execution_count": 22,
      "id": "20eb23e6",
      "metadata": {
        "colab": {
          "base_uri": "https://localhost:8080/"
        },
        "id": "20eb23e6",
        "outputId": "92a2558c-ea3f-40a9-9830-ad1c577595e5"
      },
      "outputs": [
        {
          "name": "stdout",
          "output_type": "stream",
          "text": [
            "Original dataset:\n",
            "                                              review  sentiment\n",
            "0  at first gumagana cya..pero pagnalowbat cya nd...          1\n",
            "1  grabi pangalawa ko ng order sa shapee pero pur...          1\n",
            "2  2l gray/black order ko. bakit 850ml lang po pi...          1\n",
            "3  walang silbing product.. bwesit. di gumagana d...          1\n",
            "4  d po maganda naman po yung neck fan, pero po n...          4\n"
          ]
        }
      ],
      "source": [
        "# Load the dataset\n",
        "df = pd.read_csv('SentiTaglish_ProductsAndServices.csv')\n",
        "print(\"Original dataset:\")\n",
        "print(df.head())"
      ]
    },
    {
      "cell_type": "code",
      "execution_count": 23,
      "id": "04ac2df1",
      "metadata": {
        "colab": {
          "base_uri": "https://localhost:8080/"
        },
        "id": "04ac2df1",
        "outputId": "fe023ce4-54a3-4da7-f37b-b0b3756f4578"
      },
      "outputs": [
        {
          "name": "stdout",
          "output_type": "stream",
          "text": [
            "                                              review\n",
            "0  at first gumagana cya..pero pagnalowbat cya nd...\n",
            "1  grabi pangalawa ko ng order sa shapee pero pur...\n",
            "2  2l gray/black order ko. bakit 850ml lang po pi...\n",
            "3  walang silbing product.. bwesit. di gumagana d...\n",
            "4  d po maganda naman po yung neck fan, pero po n...\n"
          ]
        }
      ],
      "source": [
        "# Drop the sentiment column\n",
        "reviews_df = df.drop(columns=['sentiment'])\n",
        "print(reviews_df.head())"
      ]
    },
    {
      "cell_type": "code",
      "execution_count": 24,
      "id": "4ec261ac",
      "metadata": {
        "id": "4ec261ac"
      },
      "outputs": [],
      "source": [
        "documents = reviews_df['review'].astype(str).tolist()"
      ]
    },
    {
      "cell_type": "code",
      "execution_count": 25,
      "id": "001e98d7",
      "metadata": {
        "id": "001e98d7"
      },
      "outputs": [],
      "source": [
        "# Load tagalog stopwords function\n",
        "def load_stopwords(filepath):\n",
        "    with open(filepath, 'r', encoding='utf-8') as file:\n",
        "        return set(line.strip() for line in file if line.strip())"
      ]
    },
    {
      "cell_type": "code",
      "execution_count": 26,
      "id": "01e67728",
      "metadata": {
        "id": "01e67728"
      },
      "outputs": [],
      "source": [
        "# Define stopwords\n",
        "english_stopwords = stopwords.words('english')\n",
        "\n",
        "# Tagalog/Filipino stopwords\n",
        "tagalog_stopwords = load_stopwords(\"stopwords-new.txt\")\n",
        "\n",
        "combined_stopwords = set(english_stopwords).union(tagalog_stopwords)"
      ]
    },
    {
      "cell_type": "code",
      "execution_count": 27,
      "id": "215e29fa",
      "metadata": {
        "id": "215e29fa"
      },
      "outputs": [],
      "source": [
        "# Preprocessing function\n",
        "def preprocess_data(documents):\n",
        "    return [\n",
        "        [word for word in simple_preprocess(str(doc)) if word not in combined_stopwords]\n",
        "        for doc in documents\n",
        "    ]"
      ]
    },
    {
      "cell_type": "code",
      "execution_count": 28,
      "id": "b3c0885c",
      "metadata": {
        "id": "b3c0885c"
      },
      "outputs": [],
      "source": [
        "# Preprocess the documents\n",
        "processed_texts = preprocess_data(documents)"
      ]
    },
    {
      "cell_type": "code",
      "execution_count": 29,
      "id": "3446b851",
      "metadata": {
        "id": "3446b851"
      },
      "outputs": [],
      "source": [
        "# Create bigram and trigram models\n",
        "bigram = Phrases(processed_texts, min_count=3, threshold=5)\n",
        "trigram = Phrases(bigram[processed_texts], threshold=5)\n",
        "\n",
        "bigram_mod = Phraser(bigram)\n",
        "trigram_mod = Phraser(trigram)"
      ]
    },
    {
      "cell_type": "code",
      "execution_count": 30,
      "id": "06329215",
      "metadata": {
        "id": "06329215"
      },
      "outputs": [],
      "source": [
        "# Apply phrase models\n",
        "def make_ngrams(texts):\n",
        "    return [trigram_mod[bigram_mod[doc]] for doc in texts]\n",
        "\n",
        "processed_texts = make_ngrams(processed_texts)"
      ]
    },
    {
      "cell_type": "code",
      "execution_count": 31,
      "id": "0bfd68f1",
      "metadata": {
        "id": "0bfd68f1"
      },
      "outputs": [],
      "source": [
        "# Create dictionary and corpus\n",
        "id2word = corpora.Dictionary(processed_texts)\n",
        "corpus = [id2word.doc2bow(text) for text in processed_texts]\n"
      ]
    },
    {
      "cell_type": "code",
      "execution_count": 32,
      "id": "a38676bf",
      "metadata": {
        "id": "a38676bf"
      },
      "outputs": [],
      "source": [
        "# Function to train and evaluate an LDA model\n",
        "def train_evaluate_lda(corpus, id2word, texts, num_topics=10, passes=10, iterations=100, alpha='auto', random_state=42):\n",
        "    lda = LdaModel(\n",
        "        corpus=corpus,\n",
        "        id2word=id2word,\n",
        "        num_topics=num_topics,\n",
        "        random_state=random_state,\n",
        "        passes=passes,\n",
        "        iterations=iterations,\n",
        "        alpha=alpha,\n",
        "        per_word_topics=True\n",
        "    )\n",
        "\n",
        "    coherence_model = CoherenceModel(\n",
        "        model=lda,\n",
        "        texts=texts,\n",
        "        dictionary=id2word,\n",
        "        coherence='c_v'\n",
        "    )\n",
        "    coherence = coherence_model.get_coherence()\n",
        "\n",
        "    return lda, coherence"
      ]
    },
    {
      "cell_type": "code",
      "execution_count": 33,
      "id": "195f2b20",
      "metadata": {
        "colab": {
          "base_uri": "https://localhost:8080/"
        },
        "id": "195f2b20",
        "outputId": "0d942e49-4be4-484d-e0b5-fe9290740e27"
      },
      "outputs": [
        {
          "name": "stdout",
          "output_type": "stream",
          "text": [
            "Training LDA models with different configurations...\n",
            "\n"
          ]
        }
      ],
      "source": [
        "# List of parameter configurations to test\n",
        "configs = [\n",
        "    {'num_topics': 10, 'passes': 20, 'iterations': 200},\n",
        "    {'num_topics': 12, 'passes': 50, 'iterations': 500},\n",
        "    {'num_topics': 15, 'passes': 30, 'iterations': 300},\n",
        "    {'num_topics': 8, 'passes': 25, 'iterations': 400},\n",
        "]\n",
        "\n",
        "results = []\n",
        "\n",
        "print(\"Training LDA models with different configurations...\\n\")"
      ]
    },
    {
      "cell_type": "code",
      "execution_count": 34,
      "id": "062303dc",
      "metadata": {
        "colab": {
          "base_uri": "https://localhost:8080/"
        },
        "id": "062303dc",
        "outputId": "082290b5-6597-4e66-d3da-c567ba6b7cfb"
      },
      "outputs": [
        {
          "name": "stdout",
          "output_type": "stream",
          "text": [
            "Training config: {'num_topics': 10, 'passes': 20, 'iterations': 200}\n",
            "Coherence Score: 0.5389\n",
            "\n",
            "Training config: {'num_topics': 12, 'passes': 50, 'iterations': 500}\n",
            "Coherence Score: 0.5201\n",
            "\n",
            "Training config: {'num_topics': 15, 'passes': 30, 'iterations': 300}\n",
            "Coherence Score: 0.4666\n",
            "\n",
            "Training config: {'num_topics': 8, 'passes': 25, 'iterations': 400}\n",
            "Coherence Score: 0.4664\n",
            "\n"
          ]
        }
      ],
      "source": [
        "# Train and evaluate models\n",
        "for config in configs:\n",
        "    print(f\"Training config: {config}\")\n",
        "    lda_model, coherence = train_evaluate_lda(\n",
        "        corpus=corpus,\n",
        "        id2word=id2word,\n",
        "        texts=processed_texts,\n",
        "        **config\n",
        "    )\n",
        "    results.append({\n",
        "        'config': config,\n",
        "        'model': lda_model,\n",
        "        'coherence': coherence\n",
        "    })\n",
        "    print(f\"Coherence Score: {coherence:.4f}\\n\")"
      ]
    },
    {
      "cell_type": "code",
      "execution_count": 35,
      "id": "_i8DKCwmlJDW",
      "metadata": {
        "colab": {
          "base_uri": "https://localhost:8080/",
          "height": 861
        },
        "id": "_i8DKCwmlJDW",
        "outputId": "4b636460-b699-4297-bfe4-f3b069a75960"
      },
      "outputs": [],
      "source": [
        "# Sort results by coherence score\n",
        "results = sorted(results, key=lambda x: x['coherence'], reverse=True)"
      ]
    },
    {
      "cell_type": "code",
      "execution_count": 36,
      "id": "26e4c265",
      "metadata": {
        "colab": {
          "base_uri": "https://localhost:8080/"
        },
        "id": "26e4c265",
        "outputId": "735af3a8-d978-487c-d760-4dcb74175b23"
      },
      "outputs": [
        {
          "name": "stdout",
          "output_type": "stream",
          "text": [
            "Model comparison:\n",
            "Config: {'num_topics': 10, 'passes': 20, 'iterations': 200} → Coherence: 0.5389\n",
            "Config: {'num_topics': 12, 'passes': 50, 'iterations': 500} → Coherence: 0.5201\n",
            "Config: {'num_topics': 15, 'passes': 30, 'iterations': 300} → Coherence: 0.4666\n",
            "Config: {'num_topics': 8, 'passes': 25, 'iterations': 400} → Coherence: 0.4664\n"
          ]
        }
      ],
      "source": [
        "# Print summary\n",
        "print(\"Model comparison:\")\n",
        "for res in results:\n",
        "    print(f\"Config: {res['config']} → Coherence: {res['coherence']:.4f}\")"
      ]
    },
    {
      "cell_type": "code",
      "execution_count": 37,
      "id": "0adbf8d2",
      "metadata": {},
      "outputs": [
        {
          "name": "stdout",
          "output_type": "stream",
          "text": [
            "\n",
            "Best Model Topics:\n",
            "[(0,\n",
            "  '0.010*\"xxl\" + 0.009*\"free\" + 0.008*\"mganda\" + 0.008*\"si\" + '\n",
            "  '0.008*\"thank_thank\" + 0.008*\"tho\" + 0.007*\"zipper\" + 0.007*\"saktong_sakto\" '\n",
            "  '+ 0.007*\"hrs\" + 0.006*\"nag_deliver\"'),\n",
            " (1,\n",
            "  '0.017*\"gumagana\" + 0.011*\"working\" + 0.009*\"gamitin\" + 0.007*\"need\" + '\n",
            "  '0.007*\"battery\" + 0.007*\"since\" + 0.006*\"alam\" + 0.006*\"complete\" + '\n",
            "  '0.006*\"bubble_wrap\" + 0.006*\"good_condition\"'),\n",
            " (2,\n",
            "  '0.012*\"well_packaged\" + 0.009*\"kay\" + 0.008*\"promise\" + 0.007*\"magaan\" + '\n",
            "  '0.007*\"super_cute\" + 0.007*\"guys\" + 0.007*\"ok_price\" + '\n",
            "  '0.007*\"excellent_quality\" + 0.007*\"wow\" + 0.007*\"sakto_size\"'),\n",
            " (3,\n",
            "  '0.018*\"sulit\" + 0.009*\"sna\" + 0.008*\"always\" + 0.007*\"medyo_matagal\" + '\n",
            "  '0.007*\"although\" + 0.006*\"recieved\" + 0.006*\"masarap\" + 0.006*\"yet\" + '\n",
            "  '0.006*\"dents\" + 0.005*\"labas\"'),\n",
            " (4,\n",
            "  '0.023*\"order_ulit\" + 0.015*\"kuya_rider\" + 0.011*\"well_packed\" + '\n",
            "  '0.011*\"sobrang_ganda\" + 0.010*\"try\" + 0.010*\"nagdeliver\" + 0.009*\"malambot\" '\n",
            "  '+ 0.009*\"cya\" + 0.009*\"shoes\" + 0.009*\"ok_lng\"'),\n",
            " (5,\n",
            "  '0.030*\"salamat_seller\" + 0.022*\"thank_much\" + 0.020*\"amoy\" + 0.013*\"large\" '\n",
            "  '+ 0.012*\"maganda_tela\" + 0.011*\"sana_tumagal\" + 0.011*\"mabango\" + '\n",
            "  '0.007*\"place\" + 0.007*\"long_lasting\" + 0.007*\"great\"'),\n",
            " (6,\n",
            "  '0.018*\"ganda_quality\" + 0.016*\"makapal\" + 0.011*\"ok_quality\" + '\n",
            "  '0.010*\"complete_orders\" + 0.010*\"medyo_manipis\" + 0.010*\"perfect\" + '\n",
            "  '0.010*\"super_nice\" + 0.009*\"good_price\" + 0.009*\"makapal_tela\" + '\n",
            "  '0.009*\"okay_price\"'),\n",
            " (7,\n",
            "  '0.021*\"uulitin\" + 0.021*\"thankyou_seller\" + 0.016*\"oks\" + '\n",
            "  '0.011*\"sulit_price\" + 0.010*\"ring_light\" + 0.010*\"arrived\" + 0.008*\"yupi\" + '\n",
            "  '0.008*\"crack\" + 0.007*\"medjo\" + 0.007*\"hays\"'),\n",
            " (8,\n",
            "  '0.012*\"really\" + 0.012*\"pen\" + 0.011*\"food\" + 0.011*\"maraming_salamat\" + '\n",
            "  '0.009*\"best\" + 0.008*\"tnx\" + 0.007*\"second_order\" + 0.007*\"hotel\" + '\n",
            "  '0.007*\"bulsa\" + 0.006*\"last\"'),\n",
            " (9,\n",
            "  '0.027*\"maganda\" + 0.026*\"order\" + 0.018*\"item\" + 0.017*\"kasi\" + '\n",
            "  '0.017*\"good\" + 0.017*\"okay\" + 0.017*\"ok\" + 0.016*\"seller\" + 0.015*\"ganda\" + '\n",
            "  '0.014*\"sana\"')]\n"
          ]
        }
      ],
      "source": [
        "# Visualize best model\n",
        "best_model = results[0]['model']\n",
        "print(\"\\nBest Model Topics:\")\n",
        "pprint(best_model.print_topics())"
      ]
    },
    {
      "cell_type": "code",
      "execution_count": 38,
      "id": "5b434a88",
      "metadata": {},
      "outputs": [
        {
          "data": {
            "text/html": [
              "\n",
              "<link rel=\"stylesheet\" type=\"text/css\" href=\"https://cdn.jsdelivr.net/gh/bmabey/pyLDAvis@3.4.0/pyLDAvis/js/ldavis.v1.0.0.css\">\n",
              "\n",
              "\n",
              "<div id=\"ldavis_el2825624247404309286068499032\" style=\"background-color:white;\"></div>\n",
              "<script type=\"text/javascript\">\n",
              "\n",
              "var ldavis_el2825624247404309286068499032_data = {\"mdsDat\": {\"x\": [-0.4201629459987754, -0.16424993597475449, 0.04558351207452414, 0.07188331379122327, 0.07517048321200183, 0.07061761738415291, 0.07671511267851532, 0.08130898279615782, 0.0860793212018927, 0.07705453883506265], \"y\": [0.16221486131328683, -0.3433748011333551, 0.07421850542607461, 0.03383169718930712, 0.021486115529566998, 0.00041841368894632823, -0.0015449193843823492, 0.00444409565807013, 0.03685584449042052, 0.011450187222065833], \"topics\": [1, 2, 3, 4, 5, 6, 7, 8, 9, 10], \"cluster\": [1, 1, 1, 1, 1, 1, 1, 1, 1, 1], \"Freq\": [51.662640896822985, 14.566464446464161, 5.142288257818122, 5.076741291226168, 4.873073097097158, 4.135216059401928, 4.045097338670364, 3.709387790700807, 3.612349876059305, 3.176740945738997]}, \"tinfo\": {\"Term\": [\"maganda\", \"order\", \"thank_seller\", \"item\", \"ok\", \"seller\", \"good\", \"okay\", \"ganda\", \"gumagana\", \"sana\", \"dumating\", \"salamat_seller\", \"thank\", \"kasi\", \"talaga\", \"order_ulit\", \"thank_much\", \"size\", \"amoy\", \"lng\", \"working\", \"sulit\", \"items\", \"uulitin\", \"kuya_rider\", \"gamitin\", \"thankyou_seller\", \"food\", \"ganda_quality\", \"order\", \"maganda\", \"ok\", \"seller\", \"ganda\", \"dumating\", \"sana\", \"item\", \"size\", \"talaga\", \"items\", \"quality\", \"mura\", \"goods\", \"color\", \"damage\", \"inorder\", \"kulay\", \"price\", \"good_quality\", \"maliit\", \"maayos\", \"thanks_seller\", \"shop\", \"cute\", \"nagustuhan\", \"sakto\", \"thanks\", \"worth\", \"maganda_quality\", \"good\", \"thank\", \"okay\", \"salamat\", \"lng\", \"nice\", \"kasi\", \"thank_seller\", \"product\", \"nung\", \"nag\", \"parang\", \"wala\", \"sira\", \"gumagana\", \"alam\", \"complete\", \"working\", \"good_condition\", \"gamit\", \"battery\", \"fan\", \"nabili\", \"loob\", \"phone\", \"ganon\", \"charge\", \"overall\", \"charger\", \"sound\", \"okey\", \"basag\", \"excellent\", \"gamitin\", \"tubig\", \"nasira\", \"nung_dumating\", \"pack\", \"fast\", \"remote\", \"problem\", \"anyway\", \"though\", \"part\", \"hahaha\", \"room\", \"days\", \"gumana\", \"bubble_wrap\", \"dumi\", \"service\", \"need\", \"nagana\", \"since\", \"masyadong\", \"products\", \"one\", \"first\", \"packaging\", \"order_ulit\", \"kuya_rider\", \"well_packed\", \"sobrang_ganda\", \"nagdeliver\", \"malambot\", \"shoes\", \"gaganda\", \"hehehe\", \"lagi\", \"comfy\", \"suotin\", \"sakto_lng\", \"freebies\", \"kya\", \"sakto_price\", \"thank_kay\", \"looks\", \"complete_items\", \"lakas\", \"gandaaa\", \"next\", \"salamat_kay\", \"medyo_masikip\", \"mahirap\", \"pangalawang_order\", \"nagustuhan_anak\", \"good_job\", \"far_good\", \"head\", \"cya\", \"delivered\", \"ok_lng\", \"maluwag\", \"pro\", \"try\", \"mabait\", \"payong\", \"thank_seller\", \"sulit\", \"sna\", \"always\", \"medyo_matagal\", \"recieved\", \"masarap\", \"yet\", \"dents\", \"labas\", \"pede\", \"nagkamali\", \"stretchable\", \"maling_kulay\", \"suki\", \"related\", \"ice\", \"silang\", \"shipment\", \"ha\", \"ginagamit\", \"husband\", \"nasunod_color\", \"pares\", \"rice\", \"accurate\", \"sana_susunod\", \"feedback\", \"padding\", \"maliit_lng\", \"serving\", \"mins\", \"perfume\", \"yes\", \"correct\", \"madali\", \"although\", \"nakuha\", \"idk\", \"khit\", \"try\", \"salamat_seller\", \"thank_much\", \"sana_tumagal\", \"mabango\", \"amoy\", \"day\", \"nagustohan\", \"long_lasting\", \"scent\", \"medium\", \"keri\", \"complete_order\", \"medj\", \"thank_seller_rider\", \"secure\", \"plastik\", \"order_uli\", \"sulit_sulit\", \"large\", \"kso\", \"clip\", \"different\", \"super_bilis\", \"matanggal\", \"mabilis_deliver\", \"super_tagal\", \"ok_xa\", \"really_love\", \"cloud\", \"solid\", \"maganda_tela\", \"place\", \"great\", \"kompleto\", \"bottle\", \"xxl\", \"skin\", \"original\", \"well_packaged\", \"kay\", \"promise\", \"magaan\", \"super_cute\", \"ok_price\", \"excellent_quality\", \"wow\", \"sakto_size\", \"umabot\", \"quality_good\", \"magaganda\", \"feeling\", \"guys\", \"fake_nails\", \"shipped\", \"fast_shipping\", \"come\", \"bukas\", \"jnt\", \"nasa_pic\", \"lol\", \"durable\", \"brush\", \"immediately\", \"sha\", \"air\", \"tag\", \"shade\", \"helpful\", \"beses\", \"nong\", \"effective\", \"glue\", \"pen\", \"maraming_salamat\", \"tnx\", \"second_order\", \"hotel\", \"bulsa\", \"sarap\", \"freebie\", \"ever\", \"finally\", \"last\", \"mahaba\", \"today\", \"kahapon\", \"worst\", \"choice\", \"tamang_tama\", \"hahahahaha\", \"syempre\", \"works\", \"damages\", \"thank_shoppee\", \"marunong\", \"magtatagal\", \"gnda\", \"cr\", \"enough\", \"normal\", \"kids\", \"malinis\", \"per\", \"really\", \"mali_kulay\", \"best\", \"food\", \"staff\", \"even\", \"mganda\", \"si\", \"thank_thank\", \"tho\", \"zipper\", \"saktong_sakto\", \"hrs\", \"nag_deliver\", \"stylus\", \"kuya\", \"tape\", \"nails\", \"tama_size\", \"slipper\", \"accommodating\", \"isuot\", \"yellow\", \"madumi\", \"connect\", \"mabilis_malowbat\", \"times\", \"kumain\", \"months\", \"little\", \"natanggal\", \"icharge\", \"makuha\", \"wear\", \"ayaw_gumana\", \"pocket\", \"free\", \"side\", \"xxl\", \"mabilis_shipping\", \"wire\", \"hassle\", \"sizing\", \"ganda_quality\", \"ok_quality\", \"complete_orders\", \"medyo_manipis\", \"super_nice\", \"perfect\", \"good_price\", \"makapal_tela\", \"okay_price\", \"cotton\", \"foam\", \"sia\", \"asawa\", \"ganda_tela\", \"highly_recommended\", \"seller_shopee\", \"napakaganda\", \"tingnan\", \"goods_quality\", \"surely_buy\", \"ilang_beses\", \"cm\", \"hopefully\", \"luma\", \"uli\", \"fabric\", \"lakad\", \"thank_seller_shopee\", \"bed\", \"ibang_item\", \"makapal\", \"pra\", \"tao\", \"sizing\", \"kona\", \"uulitin\", \"thankyou_seller\", \"sulit_price\", \"ring_light\", \"arrived\", \"yupi\", \"crack\", \"medjo\", \"hays\", \"mouse\", \"pics\", \"toh\", \"tama_kulay\", \"hubby\", \"sobrang_bilis\", \"bluetooth\", \"thank_parin\", \"straps\", \"fragile\", \"date\", \"nabasag\", \"mura_lng\", \"bebe\", \"naming\", \"nakakatuwa\", \"compatible\", \"karton\", \"yupi_yupi\", \"poor_service\", \"dent\", \"oks\", \"mejo\", \"laging\", \"gift\"], \"Freq\": [1783.0, 1722.0, 950.0, 1151.0, 1085.0, 1029.0, 1104.0, 1096.0, 992.0, 315.0, 928.0, 899.0, 183.0, 892.0, 1180.0, 771.0, 151.0, 136.0, 661.0, 126.0, 685.0, 197.0, 116.0, 545.0, 87.0, 100.0, 163.0, 83.0, 118.0, 81.0, 1721.2888620790675, 1782.8052592370436, 1084.515218575957, 1028.8335085347467, 991.6366303476947, 899.2044740063195, 927.4275401637769, 1149.7954888937747, 660.7189484077664, 770.4896084244444, 545.2587694716447, 449.246184223142, 393.418695521206, 361.919913264415, 360.0615405718645, 351.38645880871087, 341.99744009531156, 334.4701821463514, 329.3185425316204, 315.38660778616423, 301.517276062724, 383.1514641557132, 287.26280297809535, 254.2433563835002, 256.4168502848722, 250.38777635888698, 255.9824903117867, 248.31705397147294, 248.43043228706452, 247.47693423574992, 1098.4223074608958, 889.6974832402182, 1090.456858880994, 380.5846486835474, 668.8681464720837, 335.3337131535938, 1126.2567526157657, 901.5223425025894, 563.6628980638769, 415.5526639385415, 391.69444163837676, 437.7678545116959, 421.22118291690913, 342.89207421295583, 315.14312237190745, 115.2792317295971, 112.3696760805386, 195.9243894719056, 106.19414249418872, 105.01253139308814, 125.1271842868342, 91.98198555510173, 90.39884751255984, 89.86148163842587, 84.81444220610491, 76.9094321831745, 71.7855315301314, 67.85406416887952, 65.95684162506512, 65.30900764778599, 63.370122897106064, 93.04515928977322, 62.63190318803494, 161.92734018037928, 62.08019091876674, 60.24749272859294, 59.773097804187316, 55.14774083664561, 61.27566539007253, 54.73995724897601, 54.63432147988476, 54.33075365218994, 83.8207112202865, 86.74036184324571, 94.06037974688748, 87.58055111605285, 99.87768376067447, 68.17887619356826, 106.93985382711368, 92.70684426930428, 93.56649197006493, 132.73816636149766, 72.87951515957228, 123.54987258472775, 76.18215515041601, 96.50368185714144, 101.22071977691168, 83.2252540641153, 94.1450983513874, 150.9401881984625, 99.77641955166813, 71.82070275169018, 69.77465949867606, 63.82639599110575, 61.58066110406666, 60.09780610541103, 53.203820664683484, 50.88900428460551, 50.43105760465403, 38.819399844210295, 36.85708805166549, 36.01232086088617, 34.61130455419943, 35.48296242555256, 33.836922223532326, 33.77580372606275, 32.66384628524804, 31.779762373498706, 31.012668568726593, 28.560539885042967, 28.092029551678866, 27.625336033023057, 25.357000335590957, 25.85498681661375, 24.259234101302095, 24.16100761913831, 23.796048128767907, 23.299298175481365, 22.826165294326838, 60.78212546749494, 37.73900879941432, 59.390457553546376, 27.729289431115166, 31.376311020341067, 66.4635663413839, 34.38270794503276, 42.17791854932271, 48.02897335554409, 115.44042181871826, 57.397760679081856, 50.74276753343991, 44.838710535775895, 38.61375101135096, 38.27633364823134, 36.68740902833091, 36.51650776678959, 34.667281011299934, 28.910246849414136, 28.886320432844318, 28.019825421736712, 26.93514920620323, 26.896279652194423, 26.58637301902069, 25.777766918505726, 24.770237424469556, 24.006250776492216, 23.860468203124885, 23.567254872122312, 22.806563092968084, 22.606081497941542, 22.026719982511576, 20.96568673784579, 20.880018648732225, 19.896791999155997, 19.277190192300594, 18.974104252530367, 18.811935818097357, 18.605414879989038, 34.08477759774324, 27.557652957151817, 25.455193711786258, 27.401772818110384, 33.3184903904693, 44.12541117795944, 33.72798094698947, 23.28811334547442, 22.988569727124396, 23.365498521292565, 183.2358755070294, 136.04897475080762, 70.07542781181874, 65.60679633037144, 124.82058574912021, 40.090484925936025, 39.5115968562234, 43.19620764444662, 36.38766962146046, 34.79698991280889, 32.203651053839664, 32.06499672864649, 30.337197252315985, 27.50091749727074, 26.69705984105779, 25.791875323389068, 24.512483341639754, 24.168630173755336, 82.22024995445463, 23.649706450436135, 23.62106377608276, 23.06425116554534, 22.813543911318018, 21.995316693090924, 21.69382652570262, 21.6004992290748, 21.07820408577592, 20.784380947769236, 20.621476007299542, 20.497974357898883, 76.12195294202886, 46.11187555877417, 43.096363516799165, 29.68100260884224, 25.852166447039274, 37.821303347506245, 24.31493713285626, 23.697934166985707, 60.392183636151344, 47.30934094722622, 41.09913585102084, 37.78617445635865, 37.25757561549772, 36.22823235806445, 36.1046550723052, 34.56077822448284, 34.303782619630894, 30.525031044717473, 29.718713747779635, 28.371728418156845, 25.43067648207995, 36.48246475320932, 24.43195574495483, 24.014249322656738, 23.826182484794888, 22.832743851459956, 22.474032322881417, 21.855261471526376, 20.991187961082503, 20.825314754501907, 20.360545813558858, 19.954488360211556, 19.41044022086901, 19.197954036391558, 19.145519017175545, 19.419475012643346, 18.96061484506596, 18.92175888823009, 19.605415082998555, 23.231469392931977, 27.75063168206163, 24.322861489384398, 59.24105218737073, 56.23641587699787, 38.966993747588816, 35.292570102501905, 35.207611100868576, 35.098767313099955, 29.856006568239735, 28.355186888229092, 27.20113635109141, 26.872377589278642, 31.78412110495589, 26.52024070279353, 26.107789593004796, 24.90807260665027, 23.254090600338603, 22.379815177162087, 21.419541140388176, 21.04064679286937, 20.17374186003118, 18.478094118129892, 18.432989298364898, 17.816479089418408, 17.5186230919765, 17.163223974845533, 17.05481754107559, 16.958578152154033, 16.601796470606487, 16.159763023136886, 16.06864282692113, 15.787368042827897, 16.154271004071557, 62.620355089941874, 23.963084450616936, 47.25073659305059, 57.57552690338912, 27.010089130872373, 23.073389311596422, 38.70422420395328, 37.914027475285415, 36.86217486544007, 36.78085009963721, 35.14545481931576, 33.03750452925317, 33.008479381083156, 30.463381080209885, 30.32799248322264, 29.432964212908402, 27.978638606926637, 25.736746155832122, 24.259034310336446, 23.719575062953048, 23.599301721698858, 22.89485672948496, 22.32617509266491, 20.09645681086098, 20.069905944802407, 17.71827174030715, 17.519545685249263, 16.700403800702848, 15.578030863326939, 15.496924158702202, 15.352415344702761, 15.121582794576112, 15.050975900045193, 15.004892669665775, 14.616084110167838, 14.249491492001782, 40.34743681314234, 24.457143438543692, 44.9127481055401, 18.649985790430506, 21.612063086816317, 18.646604198492547, 18.59326796842507, 81.22078225264751, 48.74012614373963, 44.95522583806225, 44.81011472981738, 44.278215673766624, 44.40775965023808, 43.380294805385084, 39.63369553436711, 39.36884513889771, 32.33309276123229, 32.275846096088564, 29.44928053308805, 28.518695152533198, 27.970686868263943, 26.267498804612906, 25.774391657955295, 24.96717590341666, 25.887890433347433, 22.452403300096716, 21.580001515155633, 20.89386321505045, 20.466070153073655, 20.287671335167428, 19.630682457294398, 18.8107018254406, 18.137842754002023, 17.27655608042315, 17.093480079999583, 16.23017228306049, 16.204348003589924, 71.06962935017414, 34.939808336419354, 18.646585328048175, 18.54018075967754, 18.346628852164613, 86.5953590495417, 83.08289674568844, 44.73754500081431, 40.756558944761736, 40.151980684703084, 31.427949425017605, 31.320063023848192, 29.90901505247672, 29.811338839233294, 29.372325157761978, 28.946901912094354, 28.4393185604598, 28.395097560878146, 21.04389363526179, 19.767481255927596, 19.429358870772724, 18.25370828353312, 18.097712002380828, 17.450783984902692, 17.21698194263426, 16.767136828346608, 16.322824735015907, 15.93435336065101, 15.81370234770133, 15.025810861606416, 14.974547835352281, 14.66729906900045, 14.536819811735617, 14.048544788830583, 13.754122571060773, 65.30934694872103, 22.823880365971362, 16.13380863103606, 14.97614786939767], \"Total\": [1783.0, 1722.0, 950.0, 1151.0, 1085.0, 1029.0, 1104.0, 1096.0, 992.0, 315.0, 928.0, 899.0, 183.0, 892.0, 1180.0, 771.0, 151.0, 136.0, 661.0, 126.0, 685.0, 197.0, 116.0, 545.0, 87.0, 100.0, 163.0, 83.0, 118.0, 81.0, 1722.0288803322912, 1783.6276408665988, 1085.2574009779653, 1029.574207694155, 992.3948474456311, 899.9444935246147, 928.2946781267248, 1151.0444900247455, 661.458949747167, 771.3757918458532, 545.9998013452094, 450.0053158389154, 394.1587506539354, 362.659956259669, 360.8016199828286, 352.1297785451194, 342.75253718516655, 335.21017330451076, 330.0628627160556, 316.126685090031, 302.25730023643416, 384.1109820401917, 288.0031141288079, 254.98377029792246, 257.1657682155553, 251.12797156398713, 256.7416325921119, 249.05728560708673, 249.17142101771478, 248.21699198568172, 1104.1134718035028, 892.4517217872655, 1096.1449067899828, 383.05162750265276, 685.2318807949789, 338.46101132062535, 1180.5073227731266, 950.2119775748306, 621.1195229677792, 438.28385797283687, 415.78486230198064, 515.3569048429214, 489.9414245496452, 355.3520885805172, 315.88432461572734, 116.02201483268922, 113.10967130208682, 197.2392612348468, 106.93405233146696, 105.75241809326049, 126.10623871243497, 92.72186341236515, 91.13896507461855, 90.60706477318435, 85.6647899539156, 77.69506565743983, 72.52679773895338, 68.59401091105056, 66.6969903930454, 66.04886790908492, 64.11002644555248, 94.13462740610332, 63.371807160565744, 163.85390885800274, 62.82011233059417, 60.98735516607398, 60.520806259265214, 55.887677549899436, 62.09863975668097, 55.47981523080489, 55.374228561059006, 55.0706612178702, 84.9783613739369, 87.93939442752807, 95.6252489275745, 88.98900743750616, 102.5567524612627, 69.55386083259852, 112.74202987210899, 96.96047509144046, 98.33868631217666, 146.06324636518892, 75.06716816649453, 137.83868917351742, 79.49363790496847, 124.70134222915279, 142.48705493503644, 100.52273001579672, 246.26510937195332, 151.7054874633346, 100.54170726593807, 72.58604676447202, 70.53995851229482, 64.59172945700045, 62.345954783284306, 60.863110606345295, 53.96912413906372, 51.65431312972489, 51.19637347934068, 39.58470565864178, 37.6223843366923, 36.77762466018435, 35.37663741605173, 36.28230167725583, 34.60219327508745, 34.541088150810495, 33.42923600723123, 32.545055201155186, 31.777989041321618, 29.325820121046757, 28.857314096561648, 28.390607578107936, 26.122342507786552, 26.638683126290683, 25.024555737229832, 24.926335029627246, 24.5613517917864, 24.064686852126123, 23.591511924407786, 63.1334896850277, 39.42098038059976, 69.17676089181501, 29.30812914760913, 34.101688748768936, 92.33965658827458, 41.858351006938236, 60.98807881969175, 950.2119775748306, 116.19955066714249, 58.15678870897639, 51.5018161880134, 45.5977851705355, 39.37287336871932, 39.035404738076835, 37.44681652587859, 37.27553512352577, 35.42639923165583, 29.669330504189002, 29.645489972935508, 28.778861063027176, 27.69415893659751, 27.655356321134597, 27.34541711173124, 26.536796224727425, 25.52936838733292, 24.76537658160834, 24.62039240814416, 24.326305730270107, 23.565732322460896, 23.365214237473612, 22.78573091359733, 21.7248071933386, 21.6392266174666, 20.65580445437011, 20.036242574447115, 19.73332676470877, 19.571028536837876, 19.364708232313443, 36.03928171780266, 29.169076379617636, 26.900697431768048, 29.754191505446506, 37.60151534323861, 55.987469472320036, 59.35259054662074, 34.212011666734384, 39.83230488279528, 92.33965658827458, 183.99902828881991, 136.81212957708405, 70.83857628730141, 66.36986863880989, 126.6712415126059, 40.85365611405665, 40.27476832705793, 44.03728858845033, 37.15073662876906, 35.56008364766852, 32.9668022611829, 32.828136852290534, 31.100334494247818, 28.264059647800593, 27.460253104099277, 26.555011030122085, 25.275638298678, 24.931782326893664, 84.85719168209907, 24.41282080448373, 24.384307123280074, 23.827359529562813, 23.576716269857346, 22.764932117523923, 22.456974368686133, 22.36380718806428, 21.841378457671674, 21.54750107156027, 21.384527674825122, 21.261137686760033, 85.31699148541135, 51.45408980517451, 49.09748941640197, 33.6300937406737, 29.720457909474906, 83.41754040832903, 36.89356616446913, 35.792408700200745, 61.1784027248877, 48.072787640656564, 41.86189209824598, 38.549041058886175, 38.02035816613098, 36.99100185032719, 36.86740614290119, 35.32360487542446, 35.06657865633615, 31.287832880232923, 30.481474278450577, 29.134574321710637, 26.198456391534588, 37.60283597914992, 25.194694749210566, 24.777030485404502, 24.588986192856968, 23.595565621099855, 23.23678803471226, 22.618147502095425, 21.754050545258494, 21.58812893628835, 21.12334895111646, 20.717255718266, 20.1732058701741, 19.96071415453362, 19.90832561585199, 20.19688600401148, 19.723350686998113, 19.68458436797534, 20.589803702974123, 31.858656031727225, 49.05908369346335, 45.051223328305525, 60.00680199479531, 57.00207178295686, 39.73261682672393, 36.05824269920433, 35.97322800810331, 35.864564902535335, 30.62166875417092, 29.12085225721559, 27.966736270537893, 27.63799730609168, 32.689788715916336, 27.285950080069394, 26.873420689633594, 25.673698003705997, 24.019696477943704, 23.145462312292366, 22.185209139827155, 21.806401375359965, 20.939382098072635, 19.243690717426965, 19.19865666740294, 18.5821178924816, 18.28432042304626, 17.928917568846636, 17.820490514479314, 17.724319925649326, 17.367409939984405, 16.92538434079261, 16.83427030494521, 16.55301604313111, 16.945257088014305, 69.51051737907683, 26.204683243941055, 56.004041366290764, 118.00318331815761, 57.73271082631589, 57.320097396399035, 39.469173176393305, 38.67897954780438, 37.62709449605841, 37.545771743794, 35.91059653856405, 33.80249270682399, 33.77345014382354, 31.228357946832347, 31.093156841250373, 30.197882021577133, 28.743581066689583, 26.501632573026615, 25.02399253250025, 24.484512283584095, 24.364289327378074, 23.659896788523245, 23.091104921198724, 20.861394707391337, 20.834823570674953, 18.483508894913605, 18.284466965750163, 17.465548679874182, 16.342982136857714, 16.261952261662188, 16.1173627934558, 15.886510123309446, 15.8158996193781, 15.769887695152553, 15.38098436454721, 15.01449795319618, 42.66689047052265, 29.43459290237311, 83.41754040832903, 22.286686250455155, 36.60150848208592, 30.90697093012736, 37.82501724503951, 81.99192790880844, 49.511311361811735, 45.72884105927164, 45.58835643774869, 45.04940774901996, 45.190535284333706, 44.1514656230813, 40.40493459157823, 40.13998586286858, 33.10422797728355, 33.04698813916867, 30.220416270859406, 29.28987139707966, 28.741921602120577, 27.038669816289758, 26.545604951783528, 25.738335769676716, 26.72234992946316, 23.22362093947452, 22.35116636762051, 21.665025945745718, 21.23719327302349, 21.058837959432616, 20.401843149028842, 19.581921702496373, 18.909029475190245, 18.04769432004711, 17.864667355411466, 17.001345010027702, 16.97556459868591, 82.34003553799715, 41.27803290605096, 20.841288781190055, 37.82501724503951, 37.634912400216194, 87.36548521352057, 83.85298659373372, 45.507652582614085, 41.526630903388316, 40.92209746715757, 32.199608862061694, 32.09014111860801, 30.67911045917469, 30.581407747832035, 30.142378255837773, 29.717005986332012, 29.20941600530133, 29.16521016655189, 21.813990478282054, 20.53758388176036, 20.19947022273034, 19.023835956121548, 18.86782184593874, 18.220842209374222, 17.987028616487226, 17.53723269506046, 17.092898671105527, 16.7044797450924, 16.583811709675217, 15.79593536006028, 15.744854555015579, 15.437387954091044, 15.306855853497987, 14.818702602797654, 14.52416708254745, 69.96806474008865, 39.874587631865886, 27.9560345582086, 76.5218939537662], \"Category\": [\"Default\", \"Default\", \"Default\", \"Default\", \"Default\", \"Default\", \"Default\", \"Default\", \"Default\", \"Default\", \"Default\", \"Default\", \"Default\", \"Default\", \"Default\", \"Default\", \"Default\", \"Default\", \"Default\", \"Default\", \"Default\", \"Default\", \"Default\", \"Default\", \"Default\", \"Default\", \"Default\", \"Default\", \"Default\", \"Default\", \"Topic1\", \"Topic1\", \"Topic1\", \"Topic1\", \"Topic1\", \"Topic1\", \"Topic1\", \"Topic1\", \"Topic1\", \"Topic1\", \"Topic1\", \"Topic1\", \"Topic1\", \"Topic1\", \"Topic1\", \"Topic1\", \"Topic1\", \"Topic1\", \"Topic1\", \"Topic1\", \"Topic1\", \"Topic1\", \"Topic1\", \"Topic1\", \"Topic1\", \"Topic1\", \"Topic1\", \"Topic1\", \"Topic1\", \"Topic1\", \"Topic1\", \"Topic1\", \"Topic1\", \"Topic1\", \"Topic1\", \"Topic1\", \"Topic1\", \"Topic1\", \"Topic1\", \"Topic1\", \"Topic1\", \"Topic1\", \"Topic1\", \"Topic1\", \"Topic2\", \"Topic2\", \"Topic2\", \"Topic2\", \"Topic2\", \"Topic2\", \"Topic2\", \"Topic2\", \"Topic2\", \"Topic2\", \"Topic2\", \"Topic2\", \"Topic2\", \"Topic2\", \"Topic2\", \"Topic2\", \"Topic2\", \"Topic2\", \"Topic2\", \"Topic2\", \"Topic2\", \"Topic2\", \"Topic2\", \"Topic2\", \"Topic2\", \"Topic2\", \"Topic2\", \"Topic2\", \"Topic2\", \"Topic2\", \"Topic2\", \"Topic2\", \"Topic2\", \"Topic2\", \"Topic2\", \"Topic2\", \"Topic2\", \"Topic2\", \"Topic2\", \"Topic2\", \"Topic2\", \"Topic2\", \"Topic2\", \"Topic2\", \"Topic2\", \"Topic3\", \"Topic3\", \"Topic3\", \"Topic3\", \"Topic3\", \"Topic3\", \"Topic3\", \"Topic3\", \"Topic3\", \"Topic3\", \"Topic3\", \"Topic3\", \"Topic3\", \"Topic3\", \"Topic3\", \"Topic3\", \"Topic3\", \"Topic3\", \"Topic3\", \"Topic3\", \"Topic3\", \"Topic3\", \"Topic3\", \"Topic3\", \"Topic3\", \"Topic3\", \"Topic3\", \"Topic3\", \"Topic3\", \"Topic3\", \"Topic3\", \"Topic3\", \"Topic3\", \"Topic3\", \"Topic3\", \"Topic3\", \"Topic3\", \"Topic3\", \"Topic3\", \"Topic4\", \"Topic4\", \"Topic4\", \"Topic4\", \"Topic4\", \"Topic4\", \"Topic4\", \"Topic4\", \"Topic4\", \"Topic4\", \"Topic4\", \"Topic4\", \"Topic4\", \"Topic4\", \"Topic4\", \"Topic4\", \"Topic4\", \"Topic4\", \"Topic4\", \"Topic4\", \"Topic4\", \"Topic4\", \"Topic4\", \"Topic4\", \"Topic4\", \"Topic4\", \"Topic4\", \"Topic4\", \"Topic4\", \"Topic4\", \"Topic4\", \"Topic4\", \"Topic4\", \"Topic4\", \"Topic4\", \"Topic4\", \"Topic4\", \"Topic4\", \"Topic4\", \"Topic4\", \"Topic5\", \"Topic5\", \"Topic5\", \"Topic5\", \"Topic5\", \"Topic5\", \"Topic5\", \"Topic5\", \"Topic5\", \"Topic5\", \"Topic5\", \"Topic5\", \"Topic5\", \"Topic5\", \"Topic5\", \"Topic5\", \"Topic5\", \"Topic5\", \"Topic5\", \"Topic5\", \"Topic5\", \"Topic5\", \"Topic5\", \"Topic5\", \"Topic5\", \"Topic5\", \"Topic5\", \"Topic5\", \"Topic5\", \"Topic5\", \"Topic5\", \"Topic5\", \"Topic5\", \"Topic5\", \"Topic5\", \"Topic5\", \"Topic5\", \"Topic5\", \"Topic6\", \"Topic6\", \"Topic6\", \"Topic6\", \"Topic6\", \"Topic6\", \"Topic6\", \"Topic6\", \"Topic6\", \"Topic6\", \"Topic6\", \"Topic6\", \"Topic6\", \"Topic6\", \"Topic6\", \"Topic6\", \"Topic6\", \"Topic6\", \"Topic6\", \"Topic6\", \"Topic6\", \"Topic6\", \"Topic6\", \"Topic6\", \"Topic6\", \"Topic6\", \"Topic6\", \"Topic6\", \"Topic6\", \"Topic6\", \"Topic6\", \"Topic6\", \"Topic6\", \"Topic6\", \"Topic7\", \"Topic7\", \"Topic7\", \"Topic7\", \"Topic7\", \"Topic7\", \"Topic7\", \"Topic7\", \"Topic7\", \"Topic7\", \"Topic7\", \"Topic7\", \"Topic7\", \"Topic7\", \"Topic7\", \"Topic7\", \"Topic7\", \"Topic7\", \"Topic7\", \"Topic7\", \"Topic7\", \"Topic7\", \"Topic7\", \"Topic7\", \"Topic7\", \"Topic7\", \"Topic7\", \"Topic7\", \"Topic7\", \"Topic7\", \"Topic7\", \"Topic7\", \"Topic7\", \"Topic7\", \"Topic7\", \"Topic7\", \"Topic7\", \"Topic8\", \"Topic8\", \"Topic8\", \"Topic8\", \"Topic8\", \"Topic8\", \"Topic8\", \"Topic8\", \"Topic8\", \"Topic8\", \"Topic8\", \"Topic8\", \"Topic8\", \"Topic8\", \"Topic8\", \"Topic8\", \"Topic8\", \"Topic8\", \"Topic8\", \"Topic8\", \"Topic8\", \"Topic8\", \"Topic8\", \"Topic8\", \"Topic8\", \"Topic8\", \"Topic8\", \"Topic8\", \"Topic8\", \"Topic8\", \"Topic8\", \"Topic8\", \"Topic8\", \"Topic8\", \"Topic8\", \"Topic8\", \"Topic8\", \"Topic9\", \"Topic9\", \"Topic9\", \"Topic9\", \"Topic9\", \"Topic9\", \"Topic9\", \"Topic9\", \"Topic9\", \"Topic9\", \"Topic9\", \"Topic9\", \"Topic9\", \"Topic9\", \"Topic9\", \"Topic9\", \"Topic9\", \"Topic9\", \"Topic9\", \"Topic9\", \"Topic9\", \"Topic9\", \"Topic9\", \"Topic9\", \"Topic9\", \"Topic9\", \"Topic9\", \"Topic9\", \"Topic9\", \"Topic9\", \"Topic9\", \"Topic9\", \"Topic9\", \"Topic9\", \"Topic9\", \"Topic10\", \"Topic10\", \"Topic10\", \"Topic10\", \"Topic10\", \"Topic10\", \"Topic10\", \"Topic10\", \"Topic10\", \"Topic10\", \"Topic10\", \"Topic10\", \"Topic10\", \"Topic10\", \"Topic10\", \"Topic10\", \"Topic10\", \"Topic10\", \"Topic10\", \"Topic10\", \"Topic10\", \"Topic10\", \"Topic10\", \"Topic10\", \"Topic10\", \"Topic10\", \"Topic10\", \"Topic10\", \"Topic10\", \"Topic10\", \"Topic10\", \"Topic10\", \"Topic10\", \"Topic10\"], \"logprob\": [30.0, 29.0, 28.0, 27.0, 26.0, 25.0, 24.0, 23.0, 22.0, 21.0, 20.0, 19.0, 18.0, 17.0, 16.0, 15.0, 14.0, 13.0, 12.0, 11.0, 10.0, 9.0, 8.0, 7.0, 6.0, 5.0, 4.0, 3.0, 2.0, 1.0, -3.6397, -3.6046, -4.1016, -4.1544, -4.1912, -4.289, -4.2581, -4.0432, -4.5972, -4.4435, -4.7893, -4.983, -5.1157, -5.1991, -5.2043, -5.2287, -5.2557, -5.278, -5.2935, -5.3367, -5.3817, -5.1421, -5.4301, -5.5522, -5.5437, -5.5675, -5.5454, -5.5758, -5.5754, -5.5792, -4.0889, -4.2997, -4.0962, -5.1488, -4.585, -5.2754, -4.0639, -4.2865, -4.7561, -5.0609, -5.1201, -5.0088, -5.0474, -5.2531, -4.0715, -5.0772, -5.1027, -4.5468, -5.1593, -5.1704, -4.9952, -5.3029, -5.3203, -5.3263, -5.3841, -5.4819, -5.5508, -5.6072, -5.6355, -5.6454, -5.6755, -5.2914, -5.6873, -4.7374, -5.6961, -5.7261, -5.734, -5.8145, -5.7091, -5.8219, -5.8239, -5.8294, -5.3958, -5.3616, -5.2806, -5.352, -5.2206, -5.6024, -5.1523, -5.2951, -5.2859, -4.9361, -5.5357, -5.0079, -5.4914, -5.2549, -5.2072, -5.403, -5.2797, -3.7664, -4.1804, -4.5091, -4.538, -4.6271, -4.663, -4.6873, -4.8092, -4.8537, -4.8627, -5.1244, -5.1763, -5.1994, -5.2391, -5.2142, -5.2617, -5.2636, -5.297, -5.3245, -5.3489, -5.4313, -5.4478, -5.4646, -5.5502, -5.5308, -5.5945, -5.5986, -5.6138, -5.6349, -5.6554, -4.676, -5.1526, -4.6992, -5.4608, -5.3372, -4.5866, -5.2457, -5.0414, -4.9115, -4.0217, -4.7205, -4.8437, -4.9674, -5.1169, -5.1256, -5.168, -5.1727, -5.2247, -5.4063, -5.4071, -5.4376, -5.477, -5.4785, -5.4901, -5.521, -5.5608, -5.5922, -5.5982, -5.6106, -5.6434, -5.6523, -5.6782, -5.7276, -5.7317, -5.7799, -5.8116, -5.8274, -5.836, -5.847, -5.2416, -5.4542, -5.5336, -5.4599, -5.2644, -4.9834, -5.2521, -5.6225, -5.6355, -5.6192, -3.5188, -3.8165, -4.48, -4.5458, -3.9027, -5.0384, -5.0529, -4.9638, -5.1353, -5.18, -5.2574, -5.2618, -5.3172, -5.4153, -5.445, -5.4795, -5.5303, -5.5445, -4.3201, -5.5662, -5.5674, -5.5912, -5.6022, -5.6387, -5.6525, -5.6568, -5.6813, -5.6953, -5.7032, -5.7092, -4.3972, -4.8985, -4.9661, -5.339, -5.4771, -5.0967, -5.5384, -5.5641, -4.4645, -4.7086, -4.8494, -4.9334, -4.9475, -4.9755, -4.9789, -5.0226, -5.0301, -5.1468, -5.1736, -5.2199, -5.3294, -4.9685, -5.3695, -5.3867, -5.3946, -5.4371, -5.453, -5.4809, -5.5212, -5.5292, -5.5517, -5.5719, -5.5995, -5.6105, -5.6133, -5.5991, -5.623, -5.625, -5.5895, -5.4198, -5.2421, -5.3739, -4.4617, -4.5137, -4.8806, -4.9796, -4.982, -4.9851, -5.1469, -5.1985, -5.2401, -5.2522, -5.0843, -5.2654, -5.2811, -5.3281, -5.3968, -5.4351, -5.479, -5.4969, -5.5389, -5.6267, -5.6292, -5.6632, -5.68, -5.7005, -5.7069, -5.7125, -5.7338, -5.7608, -5.7664, -5.7841, -5.7611, -4.4062, -5.3668, -4.6878, -4.4902, -5.2471, -5.4046, -4.8007, -4.8213, -4.8495, -4.8517, -4.8972, -4.959, -4.9599, -5.0401, -5.0446, -5.0746, -5.1252, -5.2088, -5.2679, -5.2904, -5.2955, -5.3258, -5.3509, -5.4561, -5.4574, -5.5821, -5.5934, -5.6412, -5.7108, -5.716, -5.7254, -5.7405, -5.7452, -5.7483, -5.7745, -5.7999, -4.7591, -5.2597, -4.6519, -5.5308, -5.3834, -5.531, -5.5339, -4.033, -4.5437, -4.6245, -4.6277, -4.6397, -4.6367, -4.6602, -4.7505, -4.7572, -4.9541, -4.9558, -5.0475, -5.0796, -5.099, -5.1618, -5.1808, -5.2126, -5.1764, -5.3188, -5.3584, -5.3907, -5.4114, -5.4201, -5.4531, -5.4957, -5.5322, -5.5808, -5.5915, -5.6433, -5.6449, -4.1665, -4.8765, -5.5045, -5.5102, -5.5207, -3.8404, -3.8818, -4.5008, -4.594, -4.609, -4.854, -4.8574, -4.9035, -4.9068, -4.9216, -4.9362, -4.9539, -4.9554, -5.255, -5.3176, -5.3349, -5.3973, -5.4059, -5.4423, -5.4558, -5.4822, -5.5091, -5.5332, -5.5408, -5.5919, -5.5953, -5.616, -5.625, -5.6591, -5.6803, -4.1225, -5.1739, -5.5207, -5.5952], \"loglift\": [30.0, 29.0, 28.0, 27.0, 26.0, 25.0, 24.0, 23.0, 22.0, 21.0, 20.0, 19.0, 18.0, 17.0, 16.0, 15.0, 14.0, 13.0, 12.0, 11.0, 10.0, 9.0, 8.0, 7.0, 6.0, 5.0, 4.0, 3.0, 2.0, 1.0, 0.66, 0.66, 0.6598, 0.6597, 0.6597, 0.6596, 0.6595, 0.6593, 0.6593, 0.6593, 0.6591, 0.6587, 0.6586, 0.6584, 0.6584, 0.6583, 0.6582, 0.6582, 0.6582, 0.6581, 0.658, 0.6579, 0.6579, 0.6575, 0.6575, 0.6575, 0.6575, 0.6575, 0.6575, 0.6574, 0.6553, 0.6573, 0.6552, 0.654, 0.6363, 0.6512, 0.6134, 0.6078, 0.5634, 0.6072, 0.6007, 0.4973, 0.5093, 0.6247, 1.9241, 1.92, 1.9199, 1.9198, 1.9195, 1.9194, 1.9187, 1.9184, 1.9183, 1.9182, 1.9165, 1.9163, 1.9162, 1.9156, 1.9153, 1.9152, 1.9148, 1.9148, 1.9147, 1.9146, 1.9146, 1.9142, 1.914, 1.9131, 1.9131, 1.913, 1.913, 1.9129, 1.9127, 1.9127, 1.9099, 1.9105, 1.9, 1.9065, 1.8736, 1.8816, 1.8767, 1.8308, 1.8969, 1.817, 1.8839, 1.6701, 1.5845, 1.7376, 0.9649, 2.9626, 2.96, 2.9571, 2.9568, 2.9558, 2.9553, 2.955, 2.9534, 2.9527, 2.9526, 2.9481, 2.9471, 2.9466, 2.9458, 2.9454, 2.9453, 2.9453, 2.9445, 2.9439, 2.9433, 2.9412, 2.9408, 2.9403, 2.9379, 2.9378, 2.9366, 2.9365, 2.936, 2.9353, 2.9347, 2.9297, 2.9241, 2.8151, 2.9123, 2.8844, 2.6389, 2.7709, 2.5989, -0.0172, 2.9739, 2.9674, 2.9657, 2.9637, 2.961, 2.9609, 2.96, 2.9599, 2.9588, 2.9546, 2.9546, 2.9538, 2.9527, 2.9527, 2.9524, 2.9515, 2.9503, 2.9494, 2.9491, 2.9488, 2.9478, 2.9475, 2.9466, 2.9449, 2.9448, 2.9431, 2.9419, 2.9413, 2.9409, 2.9405, 2.9247, 2.9237, 2.9253, 2.8981, 2.8596, 2.7424, 2.4153, 2.5959, 2.4308, 1.6063, 3.0173, 3.0159, 3.0106, 3.0099, 3.0067, 3.0026, 3.0023, 3.0022, 3.0007, 2.9998, 2.998, 2.9979, 2.9966, 2.9941, 2.9933, 2.9923, 2.9908, 2.9904, 2.9899, 2.9897, 2.9896, 2.9889, 2.9885, 2.9871, 2.9869, 2.9867, 2.9859, 2.9854, 2.9851, 2.9849, 2.9074, 2.9118, 2.8911, 2.8965, 2.882, 2.2305, 2.6045, 2.6091, 3.1727, 3.1696, 3.1672, 3.1656, 3.1654, 3.1648, 3.1647, 3.1638, 3.1636, 3.1609, 3.1603, 3.1591, 3.1559, 3.1554, 3.1549, 3.1544, 3.1541, 3.1528, 3.1523, 3.1513, 3.1499, 3.1497, 3.1489, 3.1481, 3.1471, 3.1467, 3.1466, 3.1464, 3.1462, 3.1461, 3.1366, 2.8698, 2.6159, 2.5692, 3.1948, 3.1941, 3.1882, 3.1862, 3.1862, 3.1861, 3.1823, 3.181, 3.1799, 3.1796, 3.1796, 3.1792, 3.1788, 3.1774, 3.1753, 3.174, 3.1725, 3.1719, 3.1704, 3.1671, 3.167, 3.1656, 3.1649, 3.164, 3.1637, 3.1635, 3.1626, 3.1614, 3.1611, 3.1603, 3.1599, 3.1033, 3.1182, 3.0377, 2.4901, 2.4481, 2.2977, 3.2747, 3.2743, 3.2738, 3.2737, 3.2728, 3.2714, 3.2714, 3.2695, 3.2694, 3.2686, 3.2673, 3.265, 3.2633, 3.2626, 3.2624, 3.2614, 3.2606, 3.2569, 3.2569, 3.252, 3.2516, 3.2495, 3.2464, 3.2461, 3.2457, 3.245, 3.2447, 3.2446, 3.2433, 3.242, 3.2384, 3.1091, 2.6752, 3.1162, 2.7675, 2.789, 2.5841, 3.3114, 3.3051, 3.3037, 3.3036, 3.3035, 3.3033, 3.3032, 3.3015, 3.3014, 3.2972, 3.2972, 3.295, 3.2941, 3.2936, 3.2919, 3.2913, 3.2904, 3.2891, 3.287, 3.2857, 3.2846, 3.2838, 3.2835, 3.2823, 3.2806, 3.2792, 3.2771, 3.2767, 3.2744, 3.2743, 3.1736, 3.1541, 3.2095, 2.6078, 2.6023, 3.4405, 3.4401, 3.4322, 3.4306, 3.4303, 3.4251, 3.425, 3.4239, 3.4238, 3.4234, 3.4231, 3.4226, 3.4226, 3.4134, 3.4111, 3.4104, 3.408, 3.4076, 3.4061, 3.4056, 3.4044, 3.4032, 3.4021, 3.4018, 3.3993, 3.3992, 3.3981, 3.3977, 3.3959, 3.3948, 3.3804, 2.8914, 2.8996, 1.8182]}, \"token.table\": {\"Topic\": [8, 4, 6, 2, 4, 6, 4, 5, 6, 2, 10, 9, 8, 2, 2, 10, 9, 6, 7, 10, 10, 5, 6, 6, 2, 6, 10, 6, 7, 2, 2, 7, 5, 5, 9, 1, 6, 3, 10, 2, 3, 5, 9, 8, 3, 4, 9, 7, 10, 1, 3, 4, 1, 7, 10, 5, 1, 2, 4, 3, 7, 10, 4, 5, 1, 2, 8, 6, 4, 6, 7, 2, 7, 7, 2, 6, 9, 6, 2, 3, 2, 6, 4, 6, 7, 1, 2, 7, 9, 2, 7, 10, 5, 8, 7, 3, 3, 2, 2, 3, 1, 9, 9, 3, 2, 1, 10, 4, 5, 6, 8, 7, 1, 2, 2, 3, 9, 1, 1, 9, 4, 5, 2, 2, 4, 6, 4, 2, 5, 7, 4, 6, 7, 8, 10, 10, 3, 3, 6, 9, 9, 7, 8, 10, 4, 9, 4, 8, 4, 5, 9, 6, 1, 8, 1, 2, 1, 6, 7, 10, 1, 2, 6, 5, 3, 4, 7, 5, 8, 5, 7, 8, 9, 5, 1, 8, 8, 3, 3, 4, 3, 4, 10, 9, 3, 3, 5, 7, 8, 1, 4, 5, 6, 5, 2, 3, 9, 1, 3, 7, 5, 5, 8, 5, 8, 4, 7, 8, 8, 6, 6, 1, 1, 3, 5, 6, 7, 7, 3, 9, 10, 9, 8, 3, 4, 7, 1, 4, 4, 7, 3, 4, 7, 7, 4, 2, 6, 5, 5, 5, 10, 9, 3, 4, 5, 10, 8, 4, 8, 8, 10, 1, 10, 10, 2, 1, 2, 4, 8, 2, 6, 3, 4, 5, 1, 3, 8, 10, 4, 7, 9, 10, 9, 6, 2, 4, 8, 2, 6, 3, 1, 3, 6, 10, 7, 1, 2, 2, 1, 3, 10, 6, 9, 5, 1, 2, 9, 2, 4, 10, 1, 2, 1, 5, 3, 4, 5, 2, 2, 1, 2, 4, 3, 1, 2, 5, 4, 2, 6, 3, 6, 10, 4, 7, 7, 9, 4, 6, 2, 10, 5, 10, 5, 8, 10, 6, 9, 1, 3, 9, 2, 1, 2, 2, 3, 5, 6, 9, 6, 1, 6, 7, 8, 5, 4, 4, 2, 4, 10, 2, 10, 1, 3, 3, 6, 8, 1, 3, 3, 5, 1, 4, 5, 7, 5, 7, 5, 1, 9, 1, 2, 4, 6, 6, 4, 6, 3, 1, 8, 9, 8, 10, 4, 1, 2, 1, 2, 1, 8, 9, 2, 5, 7, 8, 4, 10, 3, 5, 2, 2, 7, 10, 4, 8, 4, 4, 10, 5, 3, 5, 6, 9, 5, 9, 7, 6, 1, 10, 8, 7, 1, 4, 9, 8, 1, 3, 3, 5, 10, 1, 3, 5, 9, 7, 8, 1, 1, 10, 8, 2, 8, 9, 7, 7, 10, 1, 3, 4, 2, 9, 6, 10, 1, 2, 8, 6, 3, 6, 8, 2, 10, 7, 7, 1, 6, 5, 8, 8, 4, 8, 4, 10, 10, 8], \"Freq\": [0.9850482268338225, 0.9704598214729803, 0.954374585116855, 0.9911911990654271, 0.7858901360375541, 0.19647253400938852, 0.9902563399670905, 0.9868064645719953, 0.007894451716575962, 0.9805584099737887, 0.9774670037893926, 0.9901033571247239, 0.9752301702207454, 0.9879467584100752, 0.9912277241496547, 0.9578268969855606, 0.9411020122562603, 0.9713545737743519, 0.8392251497101715, 0.14284683399322068, 0.9406187286347448, 0.8748182844017076, 0.10094057127712011, 0.9653788258435402, 0.9490693055764335, 0.017739613188344553, 0.026609419782516828, 0.9467745700109377, 0.975893617979617, 0.992736509050772, 0.9895498973950994, 0.9505102859110306, 0.9842395717320518, 0.9820184162740332, 0.941744030997023, 0.9977782251009107, 0.9747594259589487, 0.9852290007235627, 0.9526921920800911, 0.9901894215648176, 0.9832522883188768, 0.9747735652493251, 0.9840616765614736, 0.9599313347750174, 0.06721742043079544, 0.9074351758157384, 0.9666438988385023, 0.9591341203110906, 0.9660287839003652, 0.9954668608359329, 0.9662066884680119, 0.03167890781862334, 0.9967915847680158, 0.9375655970014758, 0.9451255325416841, 0.9791045356706048, 0.009750698769227465, 0.9750698769227465, 0.009750698769227465, 0.9639537026507067, 0.025367202701334385, 0.9639106959064592, 0.9926081510939364, 0.9652769108328474, 0.9989504980235885, 0.9591537161126175, 0.030940442455245725, 0.9468195619115082, 0.42805528393507375, 0.5707403785800983, 0.9788448628060232, 0.593160192399393, 0.40125542427017763, 0.9654326389326909, 0.9941329247622103, 0.9764722763641399, 0.951926169643823, 0.9525814953861269, 0.9922147443353809, 0.9557572945507887, 0.9823081510160975, 0.9760467475870125, 0.9482815916908158, 0.9542546944894875, 0.9769159357305871, 0.04973999412087466, 0.8256839024065193, 0.11937598589009919, 0.9683181978714807, 0.508460859384016, 0.49151216407121545, 0.932997487418769, 0.04687475412302997, 0.9374950824605994, 0.961510320944063, 0.9893534987053113, 0.9820429893105814, 0.9928850979785924, 0.9886855988305451, 0.00610299752364534, 0.999602126666974, 0.9879021272690202, 0.9741867780313673, 0.9888896501546458, 0.9910539279224707, 0.7971574780526947, 0.1960223306686954, 0.9865863015170415, 0.28856042166189405, 0.5327269322988814, 0.1553786885871737, 0.9539580286068636, 0.9944630040664962, 0.0045285200549476145, 0.991265155382201, 0.9771449146388546, 0.9739201041951517, 0.9964359696818694, 0.9981802339952954, 0.9473113627429793, 0.10183820108589203, 0.8758085293386715, 0.9972004795844076, 0.9776596034497879, 0.014377347109555705, 0.9573745985531872, 0.9748016848042219, 0.9830039770269727, 0.01045748911730822, 0.9630199700776326, 0.06471032067560037, 0.1617758016890009, 0.12942064135120074, 0.6147480464182035, 0.032355160337800185, 0.9809881954216692, 0.9749269175157949, 0.9873328461830159, 0.9652223102516158, 0.9615857650044604, 0.9497200196196798, 0.9729457693403527, 0.9770988708429309, 0.9626849347398193, 0.9759934334006805, 0.9425312428924203, 0.9797716265301375, 0.944197302212478, 0.6722785033527788, 0.2922950014577299, 0.9693041703522027, 0.9418433600626326, 0.9978044300084641, 0.972109058867774, 0.9990925719780622, 0.000868776149546141, 0.9981688613388756, 0.9726702860153265, 0.9737592144455096, 0.9716669714208269, 0.9538272048621574, 0.04574304534862922, 0.9776840975257013, 0.9706734595147171, 0.40168401118336644, 0.5774207660760893, 0.9504421462984269, 0.8920581735910148, 0.08920581735910148, 0.34542394736450405, 0.10628429149677047, 0.02657107287419262, 0.47827931173546717, 0.9830899998083011, 0.996389807348086, 0.9733447435057886, 0.9603322504299733, 0.9946121139110436, 0.9646576535121072, 0.9879637998525458, 0.9766316752919335, 0.39347497503969575, 0.5723272364213756, 0.941948577947525, 0.975517990131157, 0.02356901000792732, 0.9663294103250202, 0.9788989545967764, 0.9223984770489543, 0.9763118423851684, 0.021890400053479114, 0.0014593600035652742, 0.9727568360359503, 0.9764452212727198, 0.9933000282626525, 0.987159861890401, 0.9803035859998771, 0.9971076535372908, 0.812263244540243, 0.16723066799357944, 0.9944271603003655, 0.9796511158990618, 0.9738410656946929, 0.13460951378263925, 0.852526920623382, 0.8776242047365774, 0.026594672870805375, 0.07978401861241613, 0.9587086712334656, 0.9857573354925359, 0.961057460144006, 0.9996481099237206, 0.9950970641616996, 0.0820469624880872, 0.8907955927278038, 0.011720994641155315, 0.9481888649842014, 0.9895202446962525, 0.9760242229969565, 0.8622779858679548, 0.1335923640077113, 0.9899780906547332, 0.9484126961467031, 0.9944510468323591, 0.07632223528068909, 0.915866823368269, 0.9991487377269866, 0.9708227630569826, 0.9749348251309344, 0.9665912217030328, 0.9553663374069087, 0.034120226335961026, 0.9824204322472281, 0.9844500415400786, 0.9734752401051229, 0.9560513520698981, 0.03773886916065387, 0.9663986646841307, 0.9842496532567847, 0.9646198501674852, 0.9778640759458004, 0.9870941511446657, 0.9570351507544929, 0.9868900393231866, 0.40125806811387704, 0.5768084729136982, 0.9881129210815615, 0.9434150288074333, 0.02774750084727745, 0.9790134912964141, 0.9621005931867196, 0.9970601930008837, 0.9360612443720266, 0.9693661648675177, 0.98750298433073, 0.9427952663541033, 0.055317069199347896, 0.002405089965189039, 0.9606653046271699, 0.9724624197637285, 0.02664280602092407, 0.9908389284204818, 0.9782263685462848, 0.9931776559252526, 0.9955083794251899, 0.9628370946420237, 0.9810716350532617, 0.9496113815410522, 0.5728477845173988, 0.25272696375767595, 0.1684846425051173, 0.9647962893033443, 0.971313771943772, 0.9653374646854975, 0.9838104937755486, 0.9843693178345494, 0.930673348501562, 0.9105644527951402, 0.08900254049877311, 0.970291271956464, 0.9897742688083304, 0.00590910011228854, 0.7219388029769644, 0.25110914886155283, 0.9453256527497398, 0.9491565624253085, 0.05019577974364613, 0.9913945915222258, 0.9997628203431431, 0.8528875772641283, 0.13010149483690092, 0.9732096509757434, 0.9896728374234476, 0.961477776720812, 0.9943940744039236, 0.004561440708274879, 0.9715997442858315, 0.9826856030624913, 0.05716893864163395, 0.9289952529265517, 0.2877454377781404, 0.7088363223315166, 0.9994025185384273, 0.9890947047342256, 0.9953496246237954, 0.30732773790489004, 0.6705332463379419, 0.9913401927783339, 0.9841167572385366, 0.6131603473390661, 0.38170246787994844, 0.9628381583372826, 0.9590579849653208, 0.8498964424149912, 0.1377686013960374, 0.01164241701938344, 0.9655165367932768, 0.9893177064313055, 0.011371467890015006, 0.6886591742653664, 0.2787429991074102, 0.016396647006318245, 0.9774403232963245, 0.9832218688327594, 0.9442170111020091, 0.973655207294116, 0.9599206925717214, 0.034282881877561476, 0.9922396359779411, 0.9758721996872165, 0.8940008495762757, 0.09717400538872561, 0.9790995744836061, 0.93243210952783, 0.9447520727865144, 0.1453557637704305, 0.8479086219941779, 0.9967798173132555, 0.909045890025581, 0.05864812193713426, 0.9932418279986265, 0.9080377916719544, 0.09176977681791029, 0.7778585079040413, 0.01603831975059879, 0.07217243887769455, 0.10424907837889213, 0.03207663950119758, 0.9794110572875397, 0.9977659911927013, 0.9842043638030014, 0.9063376647943561, 0.08631787283755772, 0.9745909713733396, 0.9905296886709936, 0.9873683729043191, 0.9913515351698851, 0.9666368871820946, 0.9873182367090284, 0.9888861841930229, 0.011237343002193442, 0.9971113660662502, 0.9788560390354353, 0.9825966732715463, 0.9695841825121018, 0.97625936306579, 0.9946439922053626, 0.005221228305539961, 0.9862416618935224, 0.9945704697567654, 0.9986053155778751, 0.968250839330958, 0.9881621521598574, 0.9796984037949845, 0.9690252002196386, 0.970651850451168, 0.9832392985470855, 0.9994422862481754, 0.9794465052586089, 0.04067575183282375, 0.9558801680713582, 0.9811663450882847, 0.9518697503959088, 0.9633251622162275, 0.9690948942736152, 0.9686390794142087, 0.985818821980234, 0.9961418317064924, 0.9824457740162144, 0.9596161661070097, 0.8153671457119097, 0.13589452428531829, 0.979264336692498, 0.10156800013076286, 0.8996022868724711, 0.9652398593466592, 0.03376932452524755, 0.999306155359539, 0.5023130558517251, 0.5023130558517251, 0.18973497896067984, 0.6505199278651881, 0.13552498497191418, 0.9802114790781868, 0.9801091371333258, 0.9738243853388328, 0.9923453525677832, 0.9406834335330332, 0.9841198200319093, 0.5196360879407262, 0.4676724791466536, 0.9540051918539004, 0.9729363486163879, 0.9648425263850947, 0.9763027345037762, 0.9896768045981637, 0.9888446765806587, 0.9626267262132896, 0.9834570735569967, 0.9755387364696468, 0.9731628470812268, 0.9767054041006168, 0.9837323231681927, 0.9842886781904484, 0.9551380220451157, 0.9407390820657325, 0.9982164440984581, 0.9600479420550101, 0.9590795700897717, 0.9465766073081794, 0.04798167764474012, 0.04798167764474012, 0.9116518752500623, 0.9741305349196275, 0.997252824183749, 0.0022410175824353912, 0.9843349419552725, 0.9940639066170922, 0.9461814137546695, 0.9492618713375103, 0.05051504415099833, 0.9906574055145988, 0.951599022908784, 0.9686732214352634, 0.9833339644089686, 0.9957548497145564, 0.9965170024919964, 0.989827594360277, 0.9854638293888789, 0.9884869352842455, 0.9844421515659704, 0.9729683230939685, 0.9815613245430346, 0.9674987155628268, 0.9585949953575988, 0.021659166536839414, 0.7147524957157007, 0.24908041517365329, 0.9869450674287514, 0.9702827071143795, 0.9908004852450241, 0.9958165949330295, 0.8592863940561543, 0.1387921016527755, 0.9511798872613908, 0.9807382561099733, 0.9919261787823543, 0.3824978964146272, 0.6010681229372714, 0.9937169647306109, 0.0050699845139316885, 0.9353715076962504, 0.9575474869601267, 0.9952987344498408, 0.9908388490765392, 0.45553968402796247, 0.5394548889804819, 0.9527478254105962, 0.9293439347961499, 0.037173757391845995, 0.9880679703288048, 0.9627446138491732, 0.9799530448032628, 0.9746426785869132], \"Term\": [\"accommodating\", \"accurate\", \"air\", \"alam\", \"although\", \"although\", \"always\", \"amoy\", \"amoy\", \"anyway\", \"arrived\", \"asawa\", \"ayaw_gumana\", \"basag\", \"battery\", \"bebe\", \"bed\", \"beses\", \"best\", \"best\", \"bluetooth\", \"bottle\", \"bottle\", \"brush\", \"bubble_wrap\", \"bubble_wrap\", \"bubble_wrap\", \"bukas\", \"bulsa\", \"charge\", \"charger\", \"choice\", \"clip\", \"cloud\", \"cm\", \"color\", \"come\", \"comfy\", \"compatible\", \"complete\", \"complete_items\", \"complete_order\", \"complete_orders\", \"connect\", \"correct\", \"correct\", \"cotton\", \"cr\", \"crack\", \"cute\", \"cya\", \"cya\", \"damage\", \"damages\", \"date\", \"day\", \"days\", \"days\", \"days\", \"delivered\", \"delivered\", \"dent\", \"dents\", \"different\", \"dumating\", \"dumi\", \"dumi\", \"durable\", \"effective\", \"effective\", \"enough\", \"even\", \"even\", \"ever\", \"excellent\", \"excellent_quality\", \"fabric\", \"fake_nails\", \"fan\", \"far_good\", \"fast\", \"fast_shipping\", \"feedback\", \"feeling\", \"finally\", \"first\", \"first\", \"first\", \"foam\", \"food\", \"food\", \"fragile\", \"free\", \"free\", \"freebie\", \"freebies\", \"gaganda\", \"gamit\", \"gamitin\", \"gamitin\", \"ganda\", \"ganda_quality\", \"ganda_tela\", \"gandaaa\", \"ganon\", \"gift\", \"gift\", \"ginagamit\", \"glue\", \"glue\", \"glue\", \"gnda\", \"good\", \"good\", \"good_condition\", \"good_job\", \"good_price\", \"good_quality\", \"goods\", \"goods_quality\", \"great\", \"great\", \"gumagana\", \"gumana\", \"gumana\", \"guys\", \"ha\", \"hahaha\", \"hahaha\", \"hahahahaha\", \"hassle\", \"hassle\", \"hassle\", \"hassle\", \"hassle\", \"hays\", \"head\", \"hehehe\", \"helpful\", \"highly_recommended\", \"hopefully\", \"hotel\", \"hrs\", \"hubby\", \"husband\", \"ibang_item\", \"ice\", \"icharge\", \"idk\", \"idk\", \"ilang_beses\", \"immediately\", \"inorder\", \"isuot\", \"item\", \"item\", \"items\", \"jnt\", \"kahapon\", \"karton\", \"kasi\", \"kasi\", \"kay\", \"keri\", \"khit\", \"khit\", \"kids\", \"kompleto\", \"kompleto\", \"kona\", \"kona\", \"kona\", \"kona\", \"kso\", \"kulay\", \"kumain\", \"kuya\", \"kuya_rider\", \"kya\", \"labas\", \"lagi\", \"laging\", \"laging\", \"lakad\", \"lakas\", \"large\", \"large\", \"last\", \"little\", \"lng\", \"lng\", \"lng\", \"lol\", \"long_lasting\", \"loob\", \"looks\", \"luma\", \"maayos\", \"mabait\", \"mabait\", \"mabango\", \"mabilis_deliver\", \"mabilis_malowbat\", \"mabilis_shipping\", \"mabilis_shipping\", \"madali\", \"madali\", \"madali\", \"madumi\", \"magaan\", \"magaganda\", \"maganda\", \"maganda_quality\", \"maganda_tela\", \"maganda_tela\", \"maganda_tela\", \"magtatagal\", \"mahaba\", \"mahirap\", \"makapal\", \"makapal\", \"makapal_tela\", \"makuha\", \"malambot\", \"mali_kulay\", \"mali_kulay\", \"maliit\", \"maliit_lng\", \"maling_kulay\", \"malinis\", \"maluwag\", \"maluwag\", \"maraming_salamat\", \"marunong\", \"masarap\", \"masyadong\", \"masyadong\", \"matanggal\", \"medium\", \"medj\", \"medjo\", \"medyo_manipis\", \"medyo_masikip\", \"medyo_matagal\", \"mejo\", \"mejo\", \"mganda\", \"mins\", \"mins\", \"months\", \"mouse\", \"mura\", \"mura_lng\", \"nabasag\", \"nabili\", \"nag\", \"nag\", \"nag\", \"nag_deliver\", \"nagana\", \"nagana\", \"nagdeliver\", \"nagkamali\", \"nagustohan\", \"nagustuhan\", \"nagustuhan_anak\", \"nails\", \"nakakatuwa\", \"nakuha\", \"nakuha\", \"nakuha\", \"naming\", \"napakaganda\", \"nasa_pic\", \"nasira\", \"nasunod_color\", \"natanggal\", \"need\", \"need\", \"next\", \"nice\", \"nice\", \"nong\", \"nong\", \"normal\", \"nung\", \"nung\", \"nung_dumating\", \"ok\", \"ok_lng\", \"ok_lng\", \"ok_price\", \"ok_quality\", \"ok_xa\", \"okay\", \"okay\", \"okay_price\", \"okey\", \"oks\", \"oks\", \"one\", \"one\", \"order\", \"order_uli\", \"order_ulit\", \"original\", \"original\", \"overall\", \"pack\", \"packaging\", \"packaging\", \"padding\", \"pangalawang_order\", \"parang\", \"parang\", \"parang\", \"pares\", \"part\", \"part\", \"payong\", \"payong\", \"payong\", \"pede\", \"pen\", \"per\", \"perfect\", \"perfume\", \"perfume\", \"phone\", \"pics\", \"place\", \"place\", \"plastik\", \"pocket\", \"poor_service\", \"pra\", \"pra\", \"price\", \"pro\", \"pro\", \"problem\", \"product\", \"product\", \"products\", \"products\", \"products\", \"products\", \"products\", \"promise\", \"quality\", \"quality_good\", \"really\", \"really\", \"really_love\", \"recieved\", \"related\", \"remote\", \"rice\", \"ring_light\", \"room\", \"room\", \"sakto\", \"sakto_lng\", \"sakto_price\", \"sakto_size\", \"saktong_sakto\", \"salamat\", \"salamat\", \"salamat_kay\", \"salamat_seller\", \"sana\", \"sana_susunod\", \"sana_tumagal\", \"sarap\", \"scent\", \"second_order\", \"secure\", \"seller\", \"seller_shopee\", \"service\", \"service\", \"serving\", \"sha\", \"shade\", \"shipment\", \"shipped\", \"shoes\", \"shop\", \"si\", \"sia\", \"side\", \"side\", \"silang\", \"since\", \"since\", \"sira\", \"sira\", \"size\", \"sizing\", \"sizing\", \"skin\", \"skin\", \"skin\", \"slipper\", \"sna\", \"sobrang_bilis\", \"sobrang_ganda\", \"solid\", \"sound\", \"staff\", \"staff\", \"straps\", \"stretchable\", \"stylus\", \"suki\", \"sulit\", \"sulit_price\", \"sulit_sulit\", \"suotin\", \"super_bilis\", \"super_cute\", \"super_nice\", \"super_tagal\", \"surely_buy\", \"syempre\", \"tag\", \"talaga\", \"tama_kulay\", \"tama_size\", \"tamang_tama\", \"tao\", \"tao\", \"tao\", \"tape\", \"thank\", \"thank\", \"thank_kay\", \"thank_much\", \"thank_parin\", \"thank_seller\", \"thank_seller\", \"thank_seller_rider\", \"thank_seller_shopee\", \"thank_shoppee\", \"thank_thank\", \"thanks\", \"thanks_seller\", \"thankyou_seller\", \"tho\", \"though\", \"times\", \"tingnan\", \"tnx\", \"today\", \"toh\", \"try\", \"try\", \"try\", \"tubig\", \"uli\", \"umabot\", \"uulitin\", \"wala\", \"wala\", \"wear\", \"well_packaged\", \"well_packed\", \"wire\", \"wire\", \"working\", \"working\", \"works\", \"worst\", \"worth\", \"wow\", \"xxl\", \"xxl\", \"yellow\", \"yes\", \"yes\", \"yet\", \"yupi\", \"yupi_yupi\", \"zipper\"]}, \"R\": 30, \"lambda.step\": 0.01, \"plot.opts\": {\"xlab\": \"PC1\", \"ylab\": \"PC2\"}, \"topic.order\": [10, 2, 5, 4, 6, 3, 9, 1, 7, 8]};\n",
              "\n",
              "function LDAvis_load_lib(url, callback){\n",
              "  var s = document.createElement('script');\n",
              "  s.src = url;\n",
              "  s.async = true;\n",
              "  s.onreadystatechange = s.onload = callback;\n",
              "  s.onerror = function(){console.warn(\"failed to load library \" + url);};\n",
              "  document.getElementsByTagName(\"head\")[0].appendChild(s);\n",
              "}\n",
              "\n",
              "if(typeof(LDAvis) !== \"undefined\"){\n",
              "   // already loaded: just create the visualization\n",
              "   !function(LDAvis){\n",
              "       new LDAvis(\"#\" + \"ldavis_el2825624247404309286068499032\", ldavis_el2825624247404309286068499032_data);\n",
              "   }(LDAvis);\n",
              "}else if(typeof define === \"function\" && define.amd){\n",
              "   // require.js is available: use it to load d3/LDAvis\n",
              "   require.config({paths: {d3: \"https://d3js.org/d3.v5\"}});\n",
              "   require([\"d3\"], function(d3){\n",
              "      window.d3 = d3;\n",
              "      LDAvis_load_lib(\"https://cdn.jsdelivr.net/gh/bmabey/pyLDAvis@3.4.0/pyLDAvis/js/ldavis.v3.0.0.js\", function(){\n",
              "        new LDAvis(\"#\" + \"ldavis_el2825624247404309286068499032\", ldavis_el2825624247404309286068499032_data);\n",
              "      });\n",
              "    });\n",
              "}else{\n",
              "    // require.js not available: dynamically load d3 & LDAvis\n",
              "    LDAvis_load_lib(\"https://d3js.org/d3.v5.js\", function(){\n",
              "         LDAvis_load_lib(\"https://cdn.jsdelivr.net/gh/bmabey/pyLDAvis@3.4.0/pyLDAvis/js/ldavis.v3.0.0.js\", function(){\n",
              "                 new LDAvis(\"#\" + \"ldavis_el2825624247404309286068499032\", ldavis_el2825624247404309286068499032_data);\n",
              "            })\n",
              "         });\n",
              "}\n",
              "</script>"
            ],
            "text/plain": [
              "<IPython.core.display.HTML object>"
            ]
          },
          "execution_count": 38,
          "metadata": {},
          "output_type": "execute_result"
        }
      ],
      "source": [
        "# Prepare interactive visualization\n",
        "vis = gensimvis.prepare(best_model, corpus, id2word)\n",
        "pyLDAvis.enable_notebook()\n",
        "pyLDAvis.display(vis)"
      ]
    },
    {
      "cell_type": "code",
      "execution_count": 39,
      "id": "57bbcaa1",
      "metadata": {},
      "outputs": [
        {
          "data": {
            "text/html": [
              "<div>\n",
              "<style scoped>\n",
              "    .dataframe tbody tr th:only-of-type {\n",
              "        vertical-align: middle;\n",
              "    }\n",
              "\n",
              "    .dataframe tbody tr th {\n",
              "        vertical-align: top;\n",
              "    }\n",
              "\n",
              "    .dataframe thead th {\n",
              "        text-align: right;\n",
              "    }\n",
              "</style>\n",
              "<table border=\"1\" class=\"dataframe\">\n",
              "  <thead>\n",
              "    <tr style=\"text-align: right;\">\n",
              "      <th></th>\n",
              "      <th>LDA Topic</th>\n",
              "      <th>Top Keywords (Partial)</th>\n",
              "      <th>Matching Open-Coded Aspects</th>\n",
              "      <th>Notes</th>\n",
              "    </tr>\n",
              "  </thead>\n",
              "  <tbody>\n",
              "    <tr>\n",
              "      <th>0</th>\n",
              "      <td>Topic 0</td>\n",
              "      <td>xxl, free, zipper, saktong_sakto, nag_deliver</td>\n",
              "      <td>PRO#SIZE, DEL#TIME, PRO#MAT</td>\n",
              "      <td>Mentions of sizing, delivery timing, and product construction</td>\n",
              "    </tr>\n",
              "    <tr>\n",
              "      <th>1</th>\n",
              "      <td>Topic 1</td>\n",
              "      <td>gumagana, working, battery, complete, good_condition</td>\n",
              "      <td>PRO#FUNC, PRO#EFF, PRO#COND</td>\n",
              "      <td>Functionality and condition of items, esp. electronics</td>\n",
              "    </tr>\n",
              "    <tr>\n",
              "      <th>2</th>\n",
              "      <td>Topic 2</td>\n",
              "      <td>well_packaged, magaan, excellent_quality, ok_price</td>\n",
              "      <td>DEL#COND, PRO#GEN, PRI#VOM</td>\n",
              "      <td>Packaging, general quality, and pricing</td>\n",
              "    </tr>\n",
              "    <tr>\n",
              "      <th>3</th>\n",
              "      <td>Topic 3</td>\n",
              "      <td>sulit, recieved, masarap, dents</td>\n",
              "      <td>PRI#VOM, DEL#COND, PRO#EFF</td>\n",
              "      <td>Value for money, food quality, and damage</td>\n",
              "    </tr>\n",
              "    <tr>\n",
              "      <th>4</th>\n",
              "      <td>Topic 4</td>\n",
              "      <td>order_ulit, sobrang_ganda, malambot, shoes</td>\n",
              "      <td>SAT#RECO, PRO#MAT, SAT#EMO</td>\n",
              "      <td>Reorders, satisfaction, and softness of materials</td>\n",
              "    </tr>\n",
              "    <tr>\n",
              "      <th>5</th>\n",
              "      <td>Topic 5</td>\n",
              "      <td>salamat_seller, amoy, mabango, sana_tumagal</td>\n",
              "      <td>SAT#EMO, PRO#DUR, SER#GEN</td>\n",
              "      <td>Thanks, scent-related comments, and durability</td>\n",
              "    </tr>\n",
              "    <tr>\n",
              "      <th>6</th>\n",
              "      <td>Topic 6</td>\n",
              "      <td>ganda_quality, makapal, perfect, good_price</td>\n",
              "      <td>PRO#GEN, PRO#MAT, PRI#VOM</td>\n",
              "      <td>General praise, thickness, and pricing satisfaction</td>\n",
              "    </tr>\n",
              "    <tr>\n",
              "      <th>7</th>\n",
              "      <td>Topic 7</td>\n",
              "      <td>uulitin, thankyou_seller, sulit_price, yupi</td>\n",
              "      <td>SAT#RECO, DEL#COND, PRI#VOM</td>\n",
              "      <td>Repeat order, damage in transit, and value</td>\n",
              "    </tr>\n",
              "    <tr>\n",
              "      <th>8</th>\n",
              "      <td>Topic 8</td>\n",
              "      <td>maraming_salamat, second_order, pen, hotel</td>\n",
              "      <td>SAT#EMO, SAT#RECO, SER#GEN</td>\n",
              "      <td>Thankfulness, second order = positive emotional feedback</td>\n",
              "    </tr>\n",
              "    <tr>\n",
              "      <th>9</th>\n",
              "      <td>Topic 9</td>\n",
              "      <td>maganda, item, order, seller, sana</td>\n",
              "      <td>PRO#GEN, SER#GEN, SAT#GEN</td>\n",
              "      <td>Vague praise and seller mentions, low specificity</td>\n",
              "    </tr>\n",
              "  </tbody>\n",
              "</table>\n",
              "</div>"
            ],
            "text/plain": [
              "  LDA Topic                                Top Keywords (Partial)  \\\n",
              "0   Topic 0         xxl, free, zipper, saktong_sakto, nag_deliver   \n",
              "1   Topic 1  gumagana, working, battery, complete, good_condition   \n",
              "2   Topic 2    well_packaged, magaan, excellent_quality, ok_price   \n",
              "3   Topic 3                       sulit, recieved, masarap, dents   \n",
              "4   Topic 4            order_ulit, sobrang_ganda, malambot, shoes   \n",
              "5   Topic 5           salamat_seller, amoy, mabango, sana_tumagal   \n",
              "6   Topic 6           ganda_quality, makapal, perfect, good_price   \n",
              "7   Topic 7           uulitin, thankyou_seller, sulit_price, yupi   \n",
              "8   Topic 8            maraming_salamat, second_order, pen, hotel   \n",
              "9   Topic 9                    maganda, item, order, seller, sana   \n",
              "\n",
              "   Matching Open-Coded Aspects  \\\n",
              "0  PRO#SIZE, DEL#TIME, PRO#MAT   \n",
              "1  PRO#FUNC, PRO#EFF, PRO#COND   \n",
              "2   DEL#COND, PRO#GEN, PRI#VOM   \n",
              "3   PRI#VOM, DEL#COND, PRO#EFF   \n",
              "4   SAT#RECO, PRO#MAT, SAT#EMO   \n",
              "5    SAT#EMO, PRO#DUR, SER#GEN   \n",
              "6    PRO#GEN, PRO#MAT, PRI#VOM   \n",
              "7  SAT#RECO, DEL#COND, PRI#VOM   \n",
              "8   SAT#EMO, SAT#RECO, SER#GEN   \n",
              "9    PRO#GEN, SER#GEN, SAT#GEN   \n",
              "\n",
              "                                                           Notes  \n",
              "0  Mentions of sizing, delivery timing, and product construction  \n",
              "1         Functionality and condition of items, esp. electronics  \n",
              "2                        Packaging, general quality, and pricing  \n",
              "3                      Value for money, food quality, and damage  \n",
              "4              Reorders, satisfaction, and softness of materials  \n",
              "5                 Thanks, scent-related comments, and durability  \n",
              "6            General praise, thickness, and pricing satisfaction  \n",
              "7                     Repeat order, damage in transit, and value  \n",
              "8       Thankfulness, second order = positive emotional feedback  \n",
              "9              Vague praise and seller mentions, low specificity  "
            ]
          },
          "execution_count": 39,
          "metadata": {},
          "output_type": "execute_result"
        }
      ],
      "source": [
        "# Create a DataFrame with the comparison\n",
        "data = {\n",
        "    \"LDA Topic\": [\n",
        "        \"Topic 0\", \"Topic 1\", \"Topic 2\", \"Topic 3\", \"Topic 4\",\n",
        "        \"Topic 5\", \"Topic 6\", \"Topic 7\", \"Topic 8\", \"Topic 9\"\n",
        "    ],\n",
        "    \"Top Keywords (Partial)\": [\n",
        "        'xxl, free, zipper, saktong_sakto, nag_deliver',\n",
        "        'gumagana, working, battery, complete, good_condition',\n",
        "        'well_packaged, magaan, excellent_quality, ok_price',\n",
        "        'sulit, recieved, masarap, dents',\n",
        "        'order_ulit, sobrang_ganda, malambot, shoes',\n",
        "        'salamat_seller, amoy, mabango, sana_tumagal',\n",
        "        'ganda_quality, makapal, perfect, good_price',\n",
        "        'uulitin, thankyou_seller, sulit_price, yupi',\n",
        "        'maraming_salamat, second_order, pen, hotel',\n",
        "        'maganda, item, order, seller, sana'\n",
        "    ],\n",
        "    \"Matching Open-Coded Aspects\": [\n",
        "        \"PRO#SIZE, DEL#TIME, PRO#MAT\",\n",
        "        \"PRO#FUNC, PRO#EFF, PRO#COND\",\n",
        "        \"DEL#COND, PRO#GEN, PRI#VOM\",\n",
        "        \"PRI#VOM, DEL#COND, PRO#EFF\",\n",
        "        \"SAT#RECO, PRO#MAT, SAT#EMO\",\n",
        "        \"SAT#EMO, PRO#DUR, SER#GEN\",\n",
        "        \"PRO#GEN, PRO#MAT, PRI#VOM\",\n",
        "        \"SAT#RECO, DEL#COND, PRI#VOM\",\n",
        "        \"SAT#EMO, SAT#RECO, SER#GEN\",\n",
        "        \"PRO#GEN, SER#GEN, SAT#GEN\"\n",
        "    ],\n",
        "    \"Notes\": [\n",
        "        \"Mentions of sizing, delivery timing, and product construction\",\n",
        "        \"Functionality and condition of items, esp. electronics\",\n",
        "        \"Packaging, general quality, and pricing\",\n",
        "        \"Value for money, food quality, and damage\",\n",
        "        \"Reorders, satisfaction, and softness of materials\",\n",
        "        \"Thanks, scent-related comments, and durability\",\n",
        "        \"General praise, thickness, and pricing satisfaction\",\n",
        "        \"Repeat order, damage in transit, and value\",\n",
        "        \"Thankfulness, second order = positive emotional feedback\",\n",
        "        \"Vague praise and seller mentions, low specificity\"\n",
        "    ]\n",
        "}\n",
        "\n",
        "df = pd.DataFrame(data)\n",
        "\n",
        "# Display the table\n",
        "pd.set_option('display.max_colwidth', None)\n",
        "df"
      ]
    }
  ],
  "metadata": {
    "colab": {
      "provenance": []
    },
    "kernelspec": {
      "display_name": "base",
      "language": "python",
      "name": "python3"
    },
    "language_info": {
      "codemirror_mode": {
        "name": "ipython",
        "version": 3
      },
      "file_extension": ".py",
      "mimetype": "text/x-python",
      "name": "python",
      "nbconvert_exporter": "python",
      "pygments_lexer": "ipython3",
      "version": "3.12.3"
    }
  },
  "nbformat": 4,
  "nbformat_minor": 5
}
