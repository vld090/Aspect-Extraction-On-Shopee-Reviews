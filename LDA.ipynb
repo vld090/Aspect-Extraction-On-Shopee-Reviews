{
 "cells": [
  {
   "cell_type": "code",
   "execution_count": 1,
   "id": "305b0a04",
   "metadata": {},
   "outputs": [
    {
     "name": "stderr",
     "output_type": "stream",
     "text": [
      "d:\\Downloads\\Python\\Lib\\site-packages\\tqdm\\auto.py:21: TqdmWarning: IProgress not found. Please update jupyter and ipywidgets. See https://ipywidgets.readthedocs.io/en/stable/user_install.html\n",
      "  from .autonotebook import tqdm as notebook_tqdm\n",
      "None of PyTorch, TensorFlow >= 2.0, or Flax have been found. Models won't be available and only tokenizers, configuration and file/data utilities can be used.\n"
     ]
    }
   ],
   "source": [
    "import pandas as pd\n",
    "from preprocess import process_data"
   ]
  },
  {
   "cell_type": "code",
   "execution_count": 2,
   "id": "20eb23e6",
   "metadata": {},
   "outputs": [
    {
     "name": "stdout",
     "output_type": "stream",
     "text": [
      "                                              review  sentiment\n",
      "0  at first gumagana cya..pero pagnalowbat cya nd...          1\n",
      "1  grabi pangalawa ko ng order sa shapee pero pur...          1\n",
      "2  2l gray/black order ko. bakit 850ml lang po pi...          1\n",
      "3  walang silbing product.. bwesit. di gumagana d...          1\n",
      "4  d po maganda naman po yung neck fan, pero po n...          4\n"
     ]
    }
   ],
   "source": [
    "df = pd.read_csv('dataset/SentiTaglish_ProductsAndServices.csv')\n",
    "print(df.head())"
   ]
  },
  {
   "cell_type": "code",
   "execution_count": 4,
   "id": "04ac2df1",
   "metadata": {},
   "outputs": [
    {
     "name": "stdout",
     "output_type": "stream",
     "text": [
      "                                              review  \\\n",
      "0  at first gumagana cya..pero pagnalowbat cya nd...   \n",
      "1  grabi pangalawa ko ng order sa shapee pero pur...   \n",
      "2  2l gray/black order ko. bakit 850ml lang po pi...   \n",
      "3  walang silbing product.. bwesit. di gumagana d...   \n",
      "4  d po maganda naman po yung neck fan, pero po n...   \n",
      "\n",
      "                                              tokens  \n",
      "0  [▁at, ▁first, ▁guma, gana, ▁c, ya, pero, ▁pag,...  \n",
      "1  [▁grab, i, ▁panga, la, wa, ▁ko, ▁ng, ▁order, ▁...  \n",
      "2  [▁2, l, ▁gra, y, /, black, ▁order, ▁ko, ., ▁ba...  \n",
      "3  [▁walang, ▁sil, bing, ▁product, ▁bw, es, it, ....  \n",
      "4  [▁d, ▁po, ▁maganda, ▁naman, ▁po, ▁yung, ▁ne, c...  \n"
     ]
    }
   ],
   "source": [
    "reviews_df = df.drop(columns=['sentiment'])\n",
    "reviews_df['tokens'] = reviews_df['review'].apply(process_data)\n",
    "\n",
    "print(reviews_df.head())"
   ]
  }
 ],
 "metadata": {
  "kernelspec": {
   "display_name": "Python 3",
   "language": "python",
   "name": "python3"
  },
  "language_info": {
   "codemirror_mode": {
    "name": "ipython",
    "version": 3
   },
   "file_extension": ".py",
   "mimetype": "text/x-python",
   "name": "python",
   "nbconvert_exporter": "python",
   "pygments_lexer": "ipython3",
   "version": "3.13.3"
  }
 },
 "nbformat": 4,
 "nbformat_minor": 5
}
