{
 "cells": [
  {
   "cell_type": "code",
   "execution_count": 1,
   "id": "305b0a04",
   "metadata": {},
   "outputs": [],
   "source": [
    "import pandas as pd\n",
    "import nltk\n",
    "from nltk.corpus import stopwords\n",
    "from gensim.utils import simple_preprocess\n",
    "from gensim import corpora\n",
    "from gensim.models import LdaModel, CoherenceModel\n",
    "from pprint import pprint"
   ]
  },
  {
   "cell_type": "code",
   "execution_count": 2,
   "id": "b44f0e77",
   "metadata": {},
   "outputs": [
    {
     "name": "stderr",
     "output_type": "stream",
     "text": [
      "[nltk_data] Downloading package stopwords to\n",
      "[nltk_data]     C:\\Users\\vldth\\AppData\\Roaming\\nltk_data...\n",
      "[nltk_data]   Package stopwords is already up-to-date!\n"
     ]
    },
    {
     "data": {
      "text/plain": [
       "True"
      ]
     },
     "execution_count": 2,
     "metadata": {},
     "output_type": "execute_result"
    }
   ],
   "source": [
    "nltk.download('stopwords')"
   ]
  },
  {
   "cell_type": "code",
   "execution_count": 3,
   "id": "20eb23e6",
   "metadata": {},
   "outputs": [
    {
     "name": "stdout",
     "output_type": "stream",
     "text": [
      "Original dataset:\n",
      "                                              review  sentiment\n",
      "0  at first gumagana cya..pero pagnalowbat cya nd...          1\n",
      "1  grabi pangalawa ko ng order sa shapee pero pur...          1\n",
      "2  2l gray/black order ko. bakit 850ml lang po pi...          1\n",
      "3  walang silbing product.. bwesit. di gumagana d...          1\n",
      "4  d po maganda naman po yung neck fan, pero po n...          4\n"
     ]
    }
   ],
   "source": [
    "# Load the dataset\n",
    "df = pd.read_csv('dataset/SentiTaglish_ProductsAndServices.csv')\n",
    "print(\"Original dataset:\")\n",
    "print(df.head())"
   ]
  },
  {
   "cell_type": "code",
   "execution_count": 4,
   "id": "04ac2df1",
   "metadata": {},
   "outputs": [
    {
     "name": "stdout",
     "output_type": "stream",
     "text": [
      "                                              review\n",
      "0  at first gumagana cya..pero pagnalowbat cya nd...\n",
      "1  grabi pangalawa ko ng order sa shapee pero pur...\n",
      "2  2l gray/black order ko. bakit 850ml lang po pi...\n",
      "3  walang silbing product.. bwesit. di gumagana d...\n",
      "4  d po maganda naman po yung neck fan, pero po n...\n"
     ]
    }
   ],
   "source": [
    "# Drop the sentiment column\n",
    "reviews_df = df.drop(columns=['sentiment'])\n",
    "print(reviews_df.head())"
   ]
  },
  {
   "cell_type": "code",
   "execution_count": 5,
   "id": "4ec261ac",
   "metadata": {},
   "outputs": [],
   "source": [
    "documents = reviews_df['review'].astype(str).tolist()"
   ]
  },
  {
   "cell_type": "code",
   "execution_count": 6,
   "id": "01e67728",
   "metadata": {},
   "outputs": [],
   "source": [
    "# Define stopwords\n",
    "english_stopwords = stopwords.words('english')\n",
    "\n",
    "# Basic Tagalog/Filipino stopwords (expand this list if needed)\n",
    "tagalog_stopwords = [\n",
    "    'ako', 'ikaw', 'siya', 'tayo', 'kami', 'kayo', 'sila',\n",
    "    'ang', 'ng', 'sa', 'para', 'ay', 'na', 'nang', 'at', 'pero', 'kung', 'kasi', 'dahil',\n",
    "    'hindi', 'oo', 'huwag', 'wala', 'meron', 'may', 'niya', 'rin', 'din', 'ito', 'iyan',\n",
    "    'iyon', 'doon', 'dito', 'kaya', 'lamang', 'lang', 'mga'\n",
    "]\n",
    "\n",
    "combined_stopwords = set(english_stopwords + tagalog_stopwords)"
   ]
  },
  {
   "cell_type": "code",
   "execution_count": 7,
   "id": "215e29fa",
   "metadata": {},
   "outputs": [],
   "source": [
    "# Preprocessing function\n",
    "def preprocess_data(documents):\n",
    "    return [\n",
    "        [word for word in simple_preprocess(str(doc)) if word not in combined_stopwords]\n",
    "        for doc in documents\n",
    "    ]"
   ]
  },
  {
   "cell_type": "code",
   "execution_count": 8,
   "id": "b3c0885c",
   "metadata": {},
   "outputs": [],
   "source": [
    "# Preprocess the documents\n",
    "processed_texts = preprocess_data(documents)"
   ]
  },
  {
   "cell_type": "code",
   "execution_count": 9,
   "id": "0bfd68f1",
   "metadata": {},
   "outputs": [],
   "source": [
    "# Create dictionary and corpus\n",
    "id2word = corpora.Dictionary(processed_texts)\n",
    "corpus = [id2word.doc2bow(text) for text in processed_texts]\n"
   ]
  },
  {
   "cell_type": "code",
   "execution_count": 10,
   "id": "a38676bf",
   "metadata": {},
   "outputs": [],
   "source": [
    "# Define and train the LDA model\n",
    "num_topics = 10\n",
    "lda_model = LdaModel(\n",
    "    corpus=corpus,\n",
    "    id2word=id2word,\n",
    "    num_topics=num_topics,\n",
    "    random_state=42,\n",
    "    passes=10,\n",
    "    alpha='auto',\n",
    "    per_word_topics=True\n",
    ")"
   ]
  },
  {
   "cell_type": "code",
   "execution_count": 11,
   "id": "195f2b20",
   "metadata": {},
   "outputs": [
    {
     "name": "stdout",
     "output_type": "stream",
     "text": [
      "\n",
      "Topics found by LDA:\n",
      "[(0,\n",
      "  '0.100*\"size\" + 0.050*\"maliit\" + 0.024*\"kasya\" + 0.022*\"amoy\" + 0.021*\"paa\" '\n",
      "  '+ 0.020*\"ko\" + 0.017*\"sakto\" + 0.012*\"add\" + 0.010*\"maraming\" + '\n",
      "  '0.008*\"sya\"'),\n",
      " (1,\n",
      "  '0.064*\"yung\" + 0.052*\"naman\" + 0.036*\"ko\" + 0.029*\"kaso\" + 0.029*\"sya\" + '\n",
      "  '0.022*\"maganda\" + 0.019*\"di\" + 0.019*\"okay\" + 0.014*\"pa\" + 0.014*\"ok\"'),\n",
      " (2,\n",
      "  '0.039*\"ko\" + 0.027*\"pa\" + 0.018*\"nag\" + 0.015*\"di\" + 0.014*\"mag\" + '\n",
      "  '0.011*\"kulang\" + 0.010*\"nila\" + 0.010*\"sayang\" + 0.010*\"item\" + '\n",
      "  '0.009*\"pera\"'),\n",
      " (3,\n",
      "  '0.139*\"ung\" + 0.078*\"lng\" + 0.042*\"nmn\" + 0.038*\"ok\" + 0.038*\"nman\" + '\n",
      "  '0.017*\"un\" + 0.016*\"kc\" + 0.015*\"ko\" + 0.013*\"xa\" + 0.012*\"kaso\"'),\n",
      " (4,\n",
      "  '0.021*\"meters\" + 0.021*\"shipped\" + 0.020*\"happy\" + 0.015*\"masikip\" + '\n",
      "  '0.014*\"immediately\" + 0.014*\"correct\" + 0.013*\"perfect\" + 0.009*\"today\" + '\n",
      "  '0.009*\"hotel\" + 0.008*\"job\"'),\n",
      " (5,\n",
      "  '0.039*\"wrap\" + 0.034*\"bubble\" + 0.025*\"food\" + 0.014*\"naka\" + 0.014*\"box\" + '\n",
      "  '0.013*\"mouse\" + 0.011*\"remote\" + 0.011*\"mystery\" + 0.010*\"pad\" + '\n",
      "  '0.009*\"packaging\"'),\n",
      " (6,\n",
      "  '0.034*\"nyo\" + 0.029*\"check\" + 0.021*\"bago\" + 0.014*\"muna\" + 0.013*\"next\" + '\n",
      "  '0.012*\"sana\" + 0.011*\"time\" + 0.010*\"always\" + 0.009*\"double\" + '\n",
      "  '0.008*\"kapal\"'),\n",
      " (7,\n",
      "  '0.073*\"po\" + 0.072*\"seller\" + 0.059*\"thank\" + 0.038*\"order\" + 0.033*\"ganda\" '\n",
      "  '+ 0.027*\"ko\" + 0.022*\"good\" + 0.021*\"salamat\" + 0.020*\"maganda\" + '\n",
      "  '0.019*\"quality\"'),\n",
      " (8,\n",
      "  '0.052*\"ko\" + 0.043*\"order\" + 0.043*\"color\" + 0.038*\"dumating\" + '\n",
      "  '0.034*\"yung\" + 0.031*\"kulay\" + 0.027*\"black\" + 0.021*\"mali\" + 0.021*\"kaso\" '\n",
      "  '+ 0.020*\"yong\"'),\n",
      " (9,\n",
      "  '0.065*\"love\" + 0.033*\"malambot\" + 0.032*\"see\" + 0.029*\"get\" + 0.020*\"tnx\" + '\n",
      "  '0.012*\"wall\" + 0.009*\"duper\" + 0.009*\"already\" + 0.008*\"one\" + 0.007*\"buy\"')]\n"
     ]
    }
   ],
   "source": [
    "# Print the topics\n",
    "print(\"\\nTopics found by LDA:\")\n",
    "pprint(lda_model.print_topics())"
   ]
  },
  {
   "cell_type": "code",
   "execution_count": 12,
   "id": "062303dc",
   "metadata": {},
   "outputs": [
    {
     "name": "stdout",
     "output_type": "stream",
     "text": [
      "\n",
      "Coherence Score: 0.47906013215457754\n"
     ]
    }
   ],
   "source": [
    "# Compute coherence score\n",
    "coherence_model_lda = CoherenceModel(\n",
    "    model=lda_model,\n",
    "    texts=processed_texts,\n",
    "    dictionary=id2word,\n",
    "    coherence='c_v'\n",
    ")\n",
    "coherence_lda = coherence_model_lda.get_coherence()\n",
    "print('\\nCoherence Score:', coherence_lda)"
   ]
  }
 ],
 "metadata": {
  "kernelspec": {
   "display_name": "base",
   "language": "python",
   "name": "python3"
  },
  "language_info": {
   "codemirror_mode": {
    "name": "ipython",
    "version": 3
   },
   "file_extension": ".py",
   "mimetype": "text/x-python",
   "name": "python",
   "nbconvert_exporter": "python",
   "pygments_lexer": "ipython3",
   "version": "3.12.7"
  }
 },
 "nbformat": 4,
 "nbformat_minor": 5
}
