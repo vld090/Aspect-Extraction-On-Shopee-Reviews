{
 "cells": [
  {
   "cell_type": "code",
   "execution_count": 16,
   "id": "305b0a04",
   "metadata": {},
   "outputs": [],
   "source": [
    "import pandas as pd\n",
    "from preprocess import remove_repetitive_symbols, bpe_tokenization"
   ]
  },
  {
   "cell_type": "code",
   "execution_count": 17,
   "id": "20eb23e6",
   "metadata": {},
   "outputs": [
    {
     "name": "stdout",
     "output_type": "stream",
     "text": [
      "                                              review  sentiment\n",
      "0  at first gumagana cya..pero pagnalowbat cya nd...          1\n",
      "1  grabi pangalawa ko ng order sa shapee pero pur...          1\n",
      "2  2l gray/black order ko. bakit 850ml lang po pi...          1\n",
      "3  walang silbing product.. bwesit. di gumagana d...          1\n",
      "4  d po maganda naman po yung neck fan, pero po n...          4\n"
     ]
    }
   ],
   "source": [
    "df = pd.read_csv('dataset/SentiTaglish_ProductsAndServices.csv')\n",
    "print(df.head())"
   ]
  },
  {
   "cell_type": "code",
   "execution_count": 18,
   "id": "04ac2df1",
   "metadata": {},
   "outputs": [
    {
     "name": "stdout",
     "output_type": "stream",
     "text": [
      "                                              review  \\\n",
      "0  at first gumagana cyapero pagnalowbat cya ndi ...   \n",
      "1  grabi pangalawa ko ng order sa shapee pero pur...   \n",
      "2  2l gray/black order ko. bakit 850ml lang po pi...   \n",
      "3  walang silbing product bwesit. di gumagana dal...   \n",
      "4  d po maganda naman po yung neck fan, pero po n...   \n",
      "\n",
      "                                              tokens  \n",
      "0  [▁at, ▁first, ▁guma, gana, ▁c, ya, pero, ▁pag,...  \n",
      "1  [▁grab, i, ▁panga, la, wa, ▁ko, ▁ng, ▁order, ▁...  \n",
      "2  [▁2, l, ▁gra, y, /, black, ▁order, ▁ko, ., ▁ba...  \n",
      "3  [▁walang, ▁sil, bing, ▁product, ▁bw, es, it, ....  \n",
      "4  [▁d, ▁po, ▁maganda, ▁naman, ▁po, ▁yung, ▁ne, c...  \n"
     ]
    }
   ],
   "source": [
    "reviews_df = df.drop(columns=['sentiment'])\n",
    "reviews_df['review'] = reviews_df['review'].apply(remove_repetitive_symbols)\n",
    "reviews_df['tokens'] = reviews_df['review'].apply(bpe_tokenization)\n",
    "\n",
    "print(reviews_df.head())"
   ]
  },
  {
   "cell_type": "code",
   "execution_count": null,
   "id": "70286f21",
   "metadata": {},
   "outputs": [
    {
     "name": "stderr",
     "output_type": "stream",
     "text": [
      "<>:1: SyntaxWarning: invalid escape sequence '\\D'\n",
      "<>:1: SyntaxWarning: invalid escape sequence '\\D'\n",
      "C:\\Users\\Fatima Dy\\AppData\\Local\\Temp\\ipykernel_6016\\3131408332.py:1: SyntaxWarning: invalid escape sequence '\\D'\n",
      "  reviews_df.to_csv(\"D:\\DLSU\\THESIS\\Aspect-Extraction-On-Shopee-Reviews\\preprocessed_reviews.csv\")\n"
     ]
    }
   ],
   "source": [
    "# reviews_df.to_csv(\"D:\\DLSU\\THESIS\\Aspect-Extraction-On-Shopee-Reviews\\preprocessed_reviews.csv\")"
   ]
  }
 ],
 "metadata": {
  "kernelspec": {
   "display_name": "Python 3",
   "language": "python",
   "name": "python3"
  },
  "language_info": {
   "codemirror_mode": {
    "name": "ipython",
    "version": 3
   },
   "file_extension": ".py",
   "mimetype": "text/x-python",
   "name": "python",
   "nbconvert_exporter": "python",
   "pygments_lexer": "ipython3",
   "version": "3.13.3"
  }
 },
 "nbformat": 4,
 "nbformat_minor": 5
}
